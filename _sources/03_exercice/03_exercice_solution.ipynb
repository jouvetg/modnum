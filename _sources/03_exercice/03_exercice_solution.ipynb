{
 "cells": [
  {
   "cell_type": "markdown",
   "id": "4f7ad0ae",
   "metadata": {},
   "source": [
    "# Exercices 3\n",
    "\n",
    "[Télécharger l'exercice](../03_exercice.zip)"
   ]
  },
  {
   "cell_type": "markdown",
   "id": "b85605cb",
   "metadata": {},
   "source": [
    "# Tutorial 1: Se familiariser avec la discrétisation spatiale\n",
    "\n",
    "Pour résoudre une équation en 1D (par exemple, une équation de diffusion), il est nécessaire de discrétiser l'espace, c'est-à-dire de diviser le domaine spatial de modélisation en intervalles avec un ensemble de points où la solution sera calculée. Par exemple, si notre domaine est l'intervalle $[0, 1]$, nous définissons $x_0 = 0$, $x_1 = 0.1$, $x_2 = 0.2$, ..., $x_{10} = 1$, avec une longueur d'intervalle $dx = 0.1$.\n",
    "\n",
    "Dans l'example suivant, nous discrétisons l'intervalle $[a,b]$ en $nx$ morceaux: $x_0$ -- $x_1$ -- $x_2$ -- ... -- ... -- ... -- ... -- $x_{nx-2}$ -- $x_{nx-1}$."
   ]
  },
  {
   "cell_type": "code",
   "execution_count": null,
   "id": "9d14a790",
   "metadata": {},
   "outputs": [],
   "source": [
    "import numpy as np\n",
    "import matplotlib.pyplot as plt\n",
    "\n",
    "a = 0\n",
    "b = 1\n",
    "nx = 101                            \n",
    "x  = np.linspace(a, b, nx)  \n",
    "dx = (b-a)/(nx-1)\n",
    "\n",
    "print('Le vecteur des coordonééer de la discretisation est :', x)\n",
    "print('Sa longueur est :', len(x))\n",
    "print('La valeur de dx est :', dx)"
   ]
  },
  {
   "cell_type": "markdown",
   "id": "c1335ee7",
   "metadata": {},
   "source": [
    "Maintenant que notre domaine est discrétisé, nous pouvons initialiser une fonction (comme une concentration ou une température) sur ce domaine. Par exemple, nous pouvons initialiser une température égale à 2 partout :"
   ]
  },
  {
   "cell_type": "code",
   "execution_count": null,
   "id": "a8ce0b5e",
   "metadata": {},
   "outputs": [],
   "source": [
    "T = np.ones(nx)*2"
   ]
  },
  {
   "cell_type": "markdown",
   "id": "5d8f0cb8",
   "metadata": {},
   "source": [
    "Nous pouvons vérifier en traçant la fonction T(x) que nous l'avons bien initialisée :"
   ]
  },
  {
   "cell_type": "code",
   "execution_count": null,
   "id": "754ccf98",
   "metadata": {},
   "outputs": [],
   "source": [
    "\n",
    "plt.plot(x, T) , plt.xlabel('x') , plt.ylabel('T')"
   ]
  },
  {
   "cell_type": "markdown",
   "id": "318fe04b",
   "metadata": {},
   "source": [
    "Il est possible de modifier la valeur de T en un point donné en utilisant la syntaxe suivante :"
   ]
  },
  {
   "cell_type": "code",
   "execution_count": null,
   "id": "ca90aa77",
   "metadata": {},
   "outputs": [],
   "source": [
    "T[0]  = 0             # modification de la valeur de la première composante (cad quand x=a)\n",
    "T[-1] = 5             # modification de la valeur de la dernière composante (cad quand x=b)\n",
    "T[int(nx/5):int(2*nx/5)] = -1 # modification de la valeur de la composante entre le premier et le deuxième cinquième du domaine"
   ]
  },
  {
   "cell_type": "markdown",
   "id": "8bade982",
   "metadata": {},
   "source": [
    "Affichons à nouveau la fonction $T$ pour voir les effets des changements :"
   ]
  },
  {
   "cell_type": "code",
   "execution_count": null,
   "id": "544acc81",
   "metadata": {},
   "outputs": [],
   "source": [
    "plt.plot(x, T) , plt.xlabel('x') , plt.ylabel('T')"
   ]
  },
  {
   "cell_type": "markdown",
   "id": "eab1e7dc",
   "metadata": {},
   "source": [
    "Nous avons vu au point précédent comment changer la valeur de T à un point donné. Souvent, il est demandé de le faire à un point physique. Par exemple, on souhaite donner à la température T la valeur $6$ au point $x_P = 0.4$. Cependant, il n'est pas correct de faire `T[0.4] = 6`, car `T` est un vecteur de $n_x$ éléments et il ne prend que des indices entiers comme arguments. \n",
    "\n",
    "Il faut donc trouver l'indice correspondant à $x_P = 0.4$ (ou celui qui s'en approche le plus), car il n'est pas garanti que $x_P = 0.4$ soit atteint dans notre discrétisation $x_0$, $x_1$, $x_2$, ..., $x_{n_x - 2}$, $x_{n_x - 1}$. Pour cela, nous devons diviser la position du point $x_P$ par la longueur de l'intervalle $dx$ pour obtenir sa position relative au début de l'intervalle. Ensuite, nous prenons la partie entière de ce résultat pour nous assurer que l'indice obtenu est un entier : `ixp = int((x_P - a) / dx)`. \n",
    "\n",
    "Voici le code complet ainsi qu'un graphique pour vérifier que la valeur a bien été changée :\n"
   ]
  },
  {
   "cell_type": "code",
   "execution_count": null,
   "id": "9a701c56",
   "metadata": {},
   "outputs": [],
   "source": [
    "Txp = 6   \n",
    "xp = 0.6\n",
    "ixp = int((xp-a)/dx) # indice de la composante la plus proche de xp\n",
    "T[ixp] = Txp         # modification de la valeur de la composante la plus proche de xp\n",
    "plt.plot(x, T) , plt.xlabel('x') , plt.ylabel('T') # affichage du vecteur T\n",
    "plt.scatter(xp, Txp, color='red') # affichage du point rouge pour le nouveau point"
   ]
  },
  {
   "cell_type": "markdown",
   "id": "df934577",
   "metadata": {},
   "source": [
    "En utilisant la même stratégie, nous pouvons appliquer cela sur un intervalle (ici, nous forçons la température à valoir 1 entre $x$ = 0.1 et $x$ = 0.9) :"
   ]
  },
  {
   "cell_type": "code",
   "execution_count": null,
   "id": "b25c6189",
   "metadata": {},
   "outputs": [],
   "source": [
    "Txp = 1  \n",
    "xl = 0.1\n",
    "xr = 0.9\n",
    "ixl = int((xl-a)/dx) \n",
    "ixr = int((xr-a)/dx) \n",
    "T[ixl:ixr] = Txp     \n",
    "plt.plot(x, T) , plt.xlabel('x') , plt.ylabel('T') # affichage du vecteur T"
   ]
  },
  {
   "cell_type": "markdown",
   "id": "214f4fca",
   "metadata": {},
   "source": [
    "Notons qu'il est possible (et parfois préférable) d'obtenir le même résultat que `T[ixl,ixr]` avec avec `T[(xl<x)&(x<xr)] = Txp`. Avec cette derniere commande et `x` étant le vecteur de coordonnés défini ci-dessus, `(xl<x)&(x<xr)` trouve les indices du vecteur dont les coordonées sont compris entre `xl` et `xr`, il est ainsi plus facile d'attribuer une valeur choisie `Txp` aux éléments du vecteur `T` qui satisfassent cette condition. Ainsi la comande suivante est équivalente à celle du code précédent:"
   ]
  },
  {
   "cell_type": "code",
   "execution_count": null,
   "id": "8cf5eab9",
   "metadata": {},
   "outputs": [],
   "source": [
    "T[(xl<x)&(x<xr)] = Txp      "
   ]
  },
  {
   "cell_type": "markdown",
   "id": "2e5dee3b",
   "metadata": {},
   "source": [
    "Il est possible de tester si la température T au point `vc` est égale à `va` avec la commande `T[int((xc - a)/dx)] == va` :"
   ]
  },
  {
   "cell_type": "code",
   "execution_count": null,
   "id": "4a3ab83e",
   "metadata": {},
   "outputs": [],
   "source": [
    "xc = 0.3 ; va = 1 ; print('La température en x=' + str(xc) + ' est equal à ' + str(va) + ' :', T[int((xc-a)/dx)]==va)\n",
    "xc = 0.0 ; va = 3 ; print('La température en x=' + str(xc) + ' est equal à ' + str(va) + ' :', T[int((xc-a)/dx)]==va)\n",
    "xc = 0.0 ; va = 0 ; print('La température en x=' + str(xc) + ' est equal à ' + str(va) + ' :', T[int((xc-a)/dx)]==va)\n",
    "xc = 0.8 ; va = 0 ; print('La température en x=' + str(xc) + ' est equal à ' + str(va) + ' :', T[int((xc-a)/dx)]==va)"
   ]
  },
  {
   "cell_type": "markdown",
   "id": "2293ff1b",
   "metadata": {},
   "source": [
    "Il sera parfois nécessaire de calculer des valeurs entre les nœuds de discrétisation. Cela peut se faire en faisant une moyenne entre deux points successifs. Notons qu'en faisant cela, nous avons perdu une cellule ; le vecteur est maintenant de dimension $n_x - 1$."
   ]
  },
  {
   "cell_type": "code",
   "execution_count": null,
   "id": "9a48e809",
   "metadata": {},
   "outputs": [],
   "source": [
    "Tmid = (T[1:]+T[:-1])/2 # calcul de la valeur de la température au milieu de chaque intervalle (taille nx-1)\n",
    "xmid = (x[1:]+x[:-1])/2 # calcul de la valeur de la position au milieu de chaque intervalle (taille nx-1)\n",
    "\n",
    "print(\"Coordonnées des points au milieu de chaque intervalle :\")\n",
    "print(xmid)\n",
    "print(\"Valeurs de la température au milieu de chaque intervalle :\")\n",
    "print(Tmid)"
   ]
  },
  {
   "cell_type": "markdown",
   "id": "60bf8c44",
   "metadata": {},
   "source": [
    "# Exercice 2: La trajectoire d’une bombe volcanique"
   ]
  },
  {
   "cell_type": "markdown",
   "id": "e7d89668",
   "metadata": {},
   "source": [
    "Le but de l'exercice est de simuler la trajectoire d'une bombe volcanique éjectée lors d'une éruption en discrétisant et résolvant les équations de la dynamique en 2D. La bombe commence son parcours à la position $(x_0,y_0)=(0,480)$ m. La vitesse d'éjection est 120 m/s et l'angle de portée est de 60°. La bombe heurte le sol à une altitude de 0 m. Complétez l'ébauche de code, et faite le tourner. Quelle est l'altitude de la bombe volcanique à une distance d'environ 900 m de son origine?\n",
    "\n",
    "```python\n",
    "import numpy as np\n",
    "import matplotlib.pyplot as plt\n",
    "from IPython.display import clear_output, display\n",
    "\n",
    "# parametres physiques\n",
    "Xb_ini = ... # x initial location\n",
    "Yb_ini = ... # y initial location\n",
    "V      = ... # velocity of ejection\n",
    "alpha  = ... # vertical angle of ejection\n",
    "g      = ... # gravity accel.\n",
    "ttot   = ... # total time\n",
    "Vx     = ... # horizontal velocity\n",
    "Vy_i   = ... # vertical velocity\n",
    "\n",
    "# parametres numeriques\n",
    "dt     = ...  # time step\n",
    "nt     = ...  # total number of time steps\n",
    " \n",
    "# Initialisation\n",
    "time  = 0\n",
    "Xbomb = ...\n",
    "Ybomb = ...\n",
    "Vy    = ...\n",
    "\n",
    "flag = 0\n",
    "\n",
    "# create the figure outside the loop \n",
    "fig, ax = plt.subplots()\n",
    " \n",
    "# time loop\n",
    "for it in range(1, nt):\n",
    "    time += dt    # update time\n",
    "    Vy   += ...   # update y velocity\n",
    "    Xbomb += ...   # update x position\n",
    "    Ybomb += ...   # update y position\n",
    " \n",
    "    # vizualization (each 5 iterations)\n",
    "    if it%5==0:\n",
    "        clear_output(wait=True)  # clear the output in VS Code\n",
    "        ax.scatter(Xbomb, Ybomb,c='k')\n",
    "        ax.set_xlabel('horizontal distance, m')\n",
    "        ax.set_ylabel('elevation, m') \n",
    "        display(fig)\n",
    "        plt.pause(0.1)  # pause to visualize updates\n",
    " \n",
    "    if Ybomb <= 0: # if the bomb gets at least to y=0 \n",
    "        break          # or lower, exit the loop\n",
    "```\n",
    "\n",
    "### ✅ **À vous de faire !**"
   ]
  },
  {
   "cell_type": "code",
   "execution_count": null,
   "id": "5ffbe9ae",
   "metadata": {
    "tags": [
     "solution"
    ]
   },
   "outputs": [],
   "source": [
    "import numpy as np\n",
    "import matplotlib.pyplot as plt\n",
    "from IPython.display import clear_output, display\n",
    "\n",
    "# parametres physiques\n",
    "Xb_ini = 0\n",
    "Yb_ini = 480\n",
    "V = 120\n",
    "alpha = 60\n",
    "g = 9.81\n",
    "ttot = 30\n",
    "\n",
    "# parameteres numeriques\n",
    "dt = 0.1\n",
    "nt = int(ttot / dt)\n",
    "\n",
    "Vx = np.cos(np.deg2rad(alpha)) * V\n",
    "Vy_i = np.sin(np.deg2rad(alpha)) * V\n",
    "\n",
    "time = 0\n",
    "\n",
    "# initialization\n",
    "Xbomb = Xb_ini\n",
    "Ybomb = Yb_ini\n",
    "Vy    = Vy_i\n",
    "\n",
    "flag = 0\n",
    "\n",
    "# create the figure outside the loop \n",
    "fig, ax = plt.subplots()\n",
    " \n",
    "for it in range(1, nt):\n",
    "    time += dt\n",
    "    Vy   += - g * dt\n",
    "    Xbomb += Vx * dt\n",
    "    Ybomb += Vy * dt\n",
    "\n",
    "    if it%5==0:\n",
    "        clear_output(wait=True)  # clear the output in VS Code\n",
    "        ax.scatter(Xbomb, Ybomb,c='k')\n",
    "        ax.set_xlabel('horizontal distance, m')\n",
    "        ax.set_ylabel('elevation, m') \n",
    "        display(fig)\n",
    "        plt.pause(0.1)  # pause to visualize updates\n",
    "\n",
    "    if Xbomb >= 900 and flag == 0:\n",
    "        Ypos = Ybomb\n",
    "        flag = 1\n",
    "    if Ybomb <= 0:\n",
    "        break\n",
    " \n",
    "print(Ypos)\n",
    "# REPONSE : Ypos 927.8632 \n"
   ]
  },
  {
   "cell_type": "markdown",
   "id": "1a253fd4",
   "metadata": {},
   "source": [
    "Notons que nous pourrions résoudre la trajectoire de la bombe volcanique analytiquement :\n",
    "\n",
    "$$\\begin{align*}\n",
    "x(t) &= x_0 + v_{\\text{inj}} \\cos(\\alpha) t \\\\\n",
    "y(t) &= y_0 + v_{\\text{inj}} \\sin(\\alpha) t - g t^2\n",
    "\\end{align*}$$\n",
    "\n",
    "$$\\text{ou } (x_0, y_0) = (0, 480), \\ \\alpha = 60^\\circ, \\ v_{\\text{inj}} = 120 \\ \\text{m/s}$$"
   ]
  },
  {
   "cell_type": "markdown",
   "id": "b6a12a2f",
   "metadata": {},
   "source": [
    "# Exercice 3: La trajectoire de plusieurs bombes volcaniques"
   ]
  },
  {
   "cell_type": "markdown",
   "id": "67efc04e",
   "metadata": {},
   "source": [
    "Cet exercice se base sur l'exercice précédent. Le but est de modéliser plusieurs bombes lancées avec des angles de projection différents, et de sauvegarder les résultats en mémoire pour afficher les figures en \"post-processing\". Commencez par reprendre le dernier code que vous modifierez ici. En vous basant sur la fonction `np.random.randn`, vous allez créer une population de cinq bombes (nb = 5) représentative d’une éruption volcanique. Pour cela, vous allez randomiser l’angle d’éjection des projectiles et utiliser deux boucles.\n",
    "\n",
    "## 3.1 Traçage en temps réel\n",
    "\n",
    "Pour commencer, supposons que seul l'angle d'éjection des projectiles change d'une bombe à l'autre. Vous pouvez alors utiliser un générateur de nombres aléatoires avec une distribution normale (`randn`) ayant une moyenne de 90° et un écart-type de 30° pour construire un vecteur contenant `nb` angles d'éjection.\n",
    "\n",
    "Maintenant, vous devez modifier les dimensions des variables de la semaine dernière pour en faire des matrices de taille (nombre de bombes × nombre de pas de temps) afin d'y stocker les trajectoires individuelles des différentes bombes (les stocker sera utile pour la question 2.2) :\n",
    "\n",
    "\n",
    "```python\n",
    "# Initialisation des paramètres\n",
    "nb = 5  # nombre de bombes\n",
    "nt = 100  # nombre de pas de temps, par exemple\n",
    "Xbomb = np.zeros((nb, nt))  # position x aux nt pas de temps pour nb bombes\n",
    "Ybomb = np.zeros((nb, nt))  # position y aux nt pas de temps pour nb bombes \n",
    "```\n",
    "Pour initialiser les matrices des coordonnées des projectiles, vous pouvez procéder comme avec des vecteurs simples et modifier toutes les colonnes de la même ligne en utilisant `:` comme cela:\n",
    "```python\n",
    "Xbomb[:, 0] = Xb_ini\n",
    "Ybomb[:, 0] = Yb_ini\n",
    "```\n",
    "\n",
    "La boucle temps établie la semaine précédente sera nichée au sein d'une boucle supplémentaire qui itérera sur le nombre de projectile: \n",
    "```python\n",
    "# create the figure outside the loop \n",
    "fig, ax = plt.subplots()\n",
    "\n",
    "for ib in range(nb):        # bomb loop\n",
    "    for it in range(1, nt): # time loop\n",
    "        Vy[ib] -= ...\n",
    "        Xbomb[ib, it] = ... # update x-position\n",
    "        Ybomb[ib, it] = ... # update y-position\n",
    "\n",
    "        if it%3==0:\n",
    "            clear_output(wait=True)  # clear the output in VS Code\n",
    "            ax.scatter(Xbomb[ib, it], Ybomb[ib, it], c=col[ib])\n",
    "            ax.set_xlabel('horizontal distance, m')\n",
    "            ax.set_ylabel('elevation, m')\n",
    "            display(fig)\n",
    "            plt.pause(0.1)  # pause to visualize updates\n",
    "            \n",
    "        if ...:  # break the loop if bomb reaches a negative altitude\n",
    "            break\n",
    "```\n",
    "Les positions successives des 5 bombes au cours du temps devraient être tracées dans votre figure.\n",
    "\n",
    "### ✅ **À vous de faire !** "
   ]
  },
  {
   "cell_type": "code",
   "execution_count": null,
   "id": "d92aa0b2",
   "metadata": {
    "tags": [
     "solution"
    ]
   },
   "outputs": [],
   "source": [
    "import numpy as np\n",
    "import matplotlib.pyplot as plt\n",
    "from IPython.display import clear_output, display\n",
    "\n",
    "nb = 5\n",
    "alpha = 30 * np.random.randn(nb) + 90\n",
    "Xb_ini = 0\n",
    "Yb_ini = 480\n",
    "V = 120\n",
    "g = 9.81\n",
    "ttot = 30\n",
    "\n",
    "# utile pour le plot\n",
    "col='brgym'\n",
    "\n",
    "# parametre numeriques\n",
    "dt = 0.5\n",
    "nt = int(ttot / dt)\n",
    "\n",
    "Vx = np.cos(np.radians(alpha)) * V\n",
    "Vy = np.sin(np.radians(alpha)) * V\n",
    "\n",
    "# Allocation et initialization\n",
    "Xbomb = np.zeros((nb, nt))\n",
    "Ybomb = np.zeros((nb, nt))\n",
    "Xbomb[:, 0] = Xb_ini\n",
    "Ybomb[:, 0] = Yb_ini\n",
    "\n",
    "# create the figure outside the loop \n",
    "fig, ax = plt.subplots()\n",
    "\n",
    "for ib in range(nb):\n",
    "    # boucle temporelle\n",
    "    for it in range(1, nt):\n",
    "        # mise a jour de la vitesse verticale\n",
    "        Vy[ib] -= g * dt\n",
    "        \n",
    "        # mise a jour des positions des bommes\n",
    "        Xbomb[ib, it] = Xbomb[ib, it - 1] + Vx[ib] * dt\n",
    "        Ybomb[ib, it] = Ybomb[ib, it - 1] + Vy[ib] * dt\n",
    "\n",
    "        # plotting\n",
    "        if it%3==0:\n",
    "            clear_output(wait=True)  # clear the output in VS Code\n",
    "            ax.scatter(Xbomb[ib, it], Ybomb[ib, it], c=col[ib])\n",
    "            ax.set_xlabel('horizontal distance, m')\n",
    "            ax.set_ylabel('elevation, m')\n",
    "            display(fig)\n",
    "            plt.pause(0.1)  # pause to visualize updates\n",
    "        \n",
    "        # condition d'arret\n",
    "        if Ybomb[ib, it] <= 0:\n",
    "            break "
   ]
  },
  {
   "cell_type": "markdown",
   "id": "c4bd7bb5",
   "metadata": {},
   "source": [
    "## 3.2 Post-processing"
   ]
  },
  {
   "cell_type": "markdown",
   "id": "440abbb7",
   "metadata": {},
   "source": [
    "\n",
    "Dans cette deuxième partie, les trajectoires des bombes seront tracées après l'exécution des boucles à partir des matrices `Xbomb` et `Ybomb` ou elles ont été sauvées. Cela permet de rendre la visualisation bien plus rapide avec l'ébauche de code suivante pour tracer successivement les trajectoires individuelles: \n",
    "\n",
    "```python\n",
    "# plotting en post-processing\n",
    "plt.figure(3)\n",
    "plt.clf() \n",
    "for ib in range(nb):\n",
    "    I = ...\n",
    "    plt.plot(Xbomb[ib, I], Ybomb[ib, I], c=col[ib])\n",
    "plt.xlabel('horizontal distance, m')\n",
    "plt.ylabel('elevation, m')\n",
    "```\n",
    "\n",
    "Puisque les vecteurs `Xbomb` et `Ybomb` se terminent avec des 0 (à cause de l'interruption de la boucle par `break`), les trajectoires tracées ci-dessus se terminent en faisceau à la position (0,0). Il faut donc ajouter une condition à cette commande `plt.plot` afin d'omettre les (0,0). Le symbole `:` pour l'indice des colonnes dans la commande `plt.plot(Xbomb[ib, :], Ybomb[ib,:])` indique que tous les pas de temps sont considérés. En utilisant le concept de l'exercice 2, vous pouvez remplacer le symbole `:` par une expression de type `I = (Ybomb[ib, :]==x)` et alors seules les paires de valeurs `Xbomb[ib,it]` et `Ybomb[ib,it]` où `Ybomb[ib,it]` est égal à `x` seront tracées. Complétez le code ci-dessus pour ne tracer que les paires de coordonnées ou `Ybomb` est strictement supérieur à 0.\n",
    "\n",
    "### ✅ **À vous de faire !** \n"
   ]
  },
  {
   "cell_type": "code",
   "execution_count": null,
   "id": "77acc0da",
   "metadata": {
    "tags": [
     "solution"
    ]
   },
   "outputs": [],
   "source": [
    "# plotting en post-processing\n",
    "plt.figure()\n",
    "plt.clf() \n",
    "for ib in range(nb):\n",
    "    I = Ybomb[ib, :] > 0\n",
    "    plt.plot(Xbomb[ib, I], Ybomb[ib, I], c=col[ib])\n",
    "plt.xlabel('horizontal distance, m')\n",
    "plt.ylabel('elevation, m')"
   ]
  }
 ],
 "metadata": {
  "kernelspec": {
   "display_name": "all",
   "language": "python",
   "name": "python3"
  },
  "language_info": {
   "codemirror_mode": {
    "name": "ipython",
    "version": 3
   },
   "file_extension": ".py",
   "mimetype": "text/x-python",
   "name": "python",
   "nbconvert_exporter": "python",
   "pygments_lexer": "ipython3",
   "version": "3.10.11"
  }
 },
 "nbformat": 4,
 "nbformat_minor": 5
}
