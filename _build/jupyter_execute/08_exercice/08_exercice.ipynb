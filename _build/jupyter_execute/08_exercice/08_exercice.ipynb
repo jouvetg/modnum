{
 "cells": [
  {
   "cell_type": "markdown",
   "id": "d07f08ad",
   "metadata": {},
   "source": [
    "# Exercices 8"
   ]
  },
  {
   "cell_type": "markdown",
   "id": "d829e4ee",
   "metadata": {},
   "source": [
    "# Exercice: Température de la croûte terrestre\n",
    "\n",
    "Nous allons modéliser l'évolution du géotherme de la croûte terrestre en deux dimensions en incluant un paramètre d'exhumation et en simulant finalement une faille active dans un domaine modélisé de 50 km de longueur et de 25 km de profondeur (Figure 1). L'évolution du champ de température $T$ en 2D est le résultat de la diffusion thermique le long des axes $x$ et $z$, ainsi que de l'advection par exhumation, $\\dot{e}$, le long d'une seule dimension ($z$) :\n",
    "\n",
    "$$\\frac{\\partial T}{\\partial t} = -\\frac{\\partial q_x}{\\partial x} -\\frac{\\partial q_z}{\\partial z}  - \\dot{e} \\frac{\\partial T}{\\partial z}\\ ,\\: $$\n",
    "\n",
    "$$q_x = - D \\frac{\\partial T}{\\partial x} \\: ; \\: \\: q_z = - D \\frac{\\partial T}{\\partial z}$$\n",
    "\n",
    "Tous les paramètres sont donnés dans la Table 1.\n",
    "\n",
    "Puisque l'exhumation des roches s'effectue dans la seule direction $z$ (verticale), nous n'avons besoin de résoudre l'advection que dans la dimension $z$. Pour cela, il faut créer une matrice contenant les vitesses `Vz` de taille `(nz-1, nx)`. Ceci afin que les vitesses se situent à l'interface entre deux cellules de température \"T\", en analogie avec les flux.\n",
    " \n",
    "![](./fig/ex_1.png)\n",
    "\n",
    "*Figure: Le but de l'exercise est de modéliser le géotherme de la croûte terrestre avec deux taux d'exhumation différents.*\n",
    "\n",
    "Nous voulons écrire un code avec deux variantes. Définissez un paramètre Q, qui vaut 1 ou 2, et utilisez des clauses conditionnelles pour écrire un unique code générique qui fonctionne pour les deux variantes.\n",
    "\n",
    "- Q1: Dans une première version du code, la condition de température en profondeur est fixée à 700°C partout mais le taux d'exhumation change entre 5 km/Myr dans la partie gauche et 15 km/Myr dans la partie droite. Le flux de chaleur au travers des bords latéraux est nul. Le scénario tectonique équivalent serait la présence d'une faille normale séparant deux domaines s'érodant à des taux différents (Figure ci-dessus).  \n",
    "\n",
    "- Q2: Dans une deuxième version du code, utilisez une condition limite de température $T$ en profondeur qui varie le long de l'axe $x$. La moitié gauche à 700°C et la droite à 900°C. La situation tectonique correspondante serait la subduction d'une croûte océanique froide sous la moitié gauche du modèle. Le flux de chaleur au travers des bords latéraux est également nul.  \n",
    " \n",
    "\n",
    "| **Paramètres:**                                | **Valeurs:**                 |\n",
    "|------------------------------------------------|------------------------------|\n",
    "| Diffusivité de la température                  | 150 km²/Myr                 |\n",
    "| Température à la surface                       | 25°C                        |\n",
    "| Hauteur du modèle                              | 25 km                       |\n",
    "| Largeur du modèle                              | 50 km                       |\n",
    "| Nombre de cellules en x, $nx$                 | 50                           |\n",
    "| Nombre de cellules en z, $nz$                 | 60                           |\n",
    "| Temps total                                    | 10 Myr                      |\n",
    "| **Q=1**                                |                              |\n",
    "| T à 25 km de profondeur                        | 700°C                       |\n",
    "| Taux d'exhumation entre 0 et 25 km            | 5 km/Myr                    |\n",
    "| Taux d'exhumation entre 25 et 50 km           | 15 km/Myr                   |\n",
    "| **Q=2**                                |                              |\n",
    "| T à 25 km de profondeur entre $x = 0-25$ km  | 700°C                       |\n",
    "| T à 25 km de profondeur entre $x = 25-50$ km | 900°C                       |\n",
    "| Taux d'exhumation, $\\dot{e}$                  | 10 km/Myr                   |\n",
    "\n",
    "*Table 1: Paramètres du modèle.*\n",
    "\n",
    "### ✅ **À vous de faire !** "
   ]
  }
 ],
 "metadata": {
  "kernelspec": {
   "display_name": "Python 3",
   "language": "python",
   "name": "python3"
  },
  "language_info": {
   "codemirror_mode": {
    "name": "ipython",
    "version": 3
   },
   "file_extension": ".py",
   "mimetype": "text/x-python",
   "name": "python",
   "nbconvert_exporter": "python",
   "pygments_lexer": "ipython3",
   "version": "3.8.10"
  }
 },
 "nbformat": 4,
 "nbformat_minor": 5
}