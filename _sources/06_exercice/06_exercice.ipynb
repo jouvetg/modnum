{
 "cells": [
  {
   "cell_type": "markdown",
   "id": "00f1e34e",
   "metadata": {},
   "source": [
    "# Exercices 6\n",
    "\n",
    "[Télécharger l'exercice](../06_exercice.zip)"
   ]
  },
  {
   "cell_type": "markdown",
   "id": "4935b361",
   "metadata": {},
   "source": [
    "# Exercise : Contamination dans une rivière\n",
    "\n",
    "Le but de cet exercice est d'implémenter une équation d'advection-diffusion-réaction en 1D dans un cas réaliste.\n",
    "\n",
    "La digue du bassin de résidus d'une mine d'or s'écroule et relâche de l'eau contaminée au cyanure dans une rivière. (Ce scénario est inspiré par la [catastrophe de 2000 de Baia Mare en Roumanie](https://en.wikipedia.org/wiki/2000_Baia_Mare_cyanide_spill). L'eau toxique va alors être transportée dans la rivière (par advection) à la même vitesse que son débit. Durant ce transport, le polluant va aussi se diffuser et se dégrader dans le cours d'eau. L'évolution de la contamination peut être décrite avec une équation de diffusion-advection-réaction :\n",
    "\n",
    "$$\\frac{\\partial C}{\\partial t} = - \\frac{\\partial Q}{\\partial x} - v \\frac{\\partial C}{\\partial x}\\ - \\gamma C,$$\n",
    "\n",
    "avec \n",
    "\n",
    "$$Q = - D\\frac{\\partial C}{\\partial x}.$$\n",
    "\n",
    "1) Comme condition initiale, distribuez l'eau polluée entre les distances de 400 et 600 m et supposez que cette eau n'est pas diluée dans la rivière (`Cinit = 1000`). Utilisez une condition limite en aval de flux nul, et une condition limite fixe en amont pour forcer l'arrivée d'eau non contaminée. Implémentez le modèle dans un bloc de code ci-dessous en vous référant au tableau ci-dessous pour les paramètres. Profitez-en pour essayer les deux types de discrétisation (\"upwind\" et \"downwind\") pour l'advection, qui diffèrent par un simple décalage des indices. Quelle méthode fonctionne et quelle méthode ne fonctionne pas ?\n",
    "\n",
    "2) Dans un deuxième temps, nous allons implémenter le même modèle en inversant l'axe $x$ de façon symétrique : i) la fuite est localisée sur le côté droit, ii) le signe de la vitesse est inversé, iii) les conditions aux bords sont inversées. Nous utiliserons le même code qui fonctionnera avec le paramètre `Q=1` dans le cas original et `Q=2` dans le cas inversé. Il s'agira donc d'introduire le paramètre `Q` ainsi que des clauses conditionnelles dans le code spécifiques à chaque cas (`Q=1` pour l'original et `Q=2` pour l'inverse).\n",
    "\n",
    "### Paramètres pour le problème de la rivière\n",
    "\n",
    "| **Paramètres**                             | **Valeurs**      |\n",
    "|--------------------------------------------|------------------|\n",
    "| Longueur du domaine modélisé               | 10 km            |\n",
    "| Concentration initiale du cyanure          | 1000 ppm         |\n",
    "| Coordonnées de la fuite (Q=1)              | 400 à 600 m      |\n",
    "| Coordonnées de la fuite (Q=2)              | 9400 à 9600 m    |\n",
    "| Diffusivité du cyanure                     | 5 m²/s           |\n",
    "| Constante de décroissance $\\gamma$         | 0.0001           |\n",
    "| Vitesse de la rivière (Q=1)                | 2 m/s            |\n",
    "| Vitesse de la rivière (Q=2)                | -2 m/s           |\n",
    "| Nombre de cellules                         | 500              |\n",
    "| Temps total                                | 1.5 hrs          |\n",
    " \n",
    " \n",
    "![](./fig/cyanide.png)\n",
    "*Représentation de l'advection et diffusion d'une fuite de cyanure dans une rivière*\n",
    " \n",
    "### ✅ **À vous de faire !** "
   ]
  }
 ],
 "metadata": {
  "kernelspec": {
   "display_name": "Python 3",
   "language": "python",
   "name": "python3"
  },
  "language_info": {
   "codemirror_mode": {
    "name": "ipython",
    "version": 3
   },
   "file_extension": ".py",
   "mimetype": "text/x-python",
   "name": "python",
   "nbconvert_exporter": "python",
   "pygments_lexer": "ipython3",
   "version": "3.8.10"
  }
 },
 "nbformat": 4,
 "nbformat_minor": 5
}
