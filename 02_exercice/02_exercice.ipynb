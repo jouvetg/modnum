{
 "cells": [
  {
   "cell_type": "markdown",
   "id": "fed1505e",
   "metadata": {},
   "source": [
    "# Exercices 2\n",
    "\n",
    "[Télécharger l'exercice](../02_exercice.zip)"
   ]
  },
  {
   "cell_type": "markdown",
   "id": "f3283b3c",
   "metadata": {},
   "source": [
    "# Tutorial 1 : Vecteurs, indices, dimensions\n",
    "\n",
    "Dans ce cours, nous allons intensivement travailler avec la notion de vecteurs (et matrices). Ces vecteurs seront des objects `numpy` du nom de la librarie qui permet de faire des opérations vecteurs/matrices.\n",
    "\n",
    "Ainsi la comande suivant permet de définir un matrices remplies de zeros et de longeurs 10 :\n"
   ]
  },
  {
   "cell_type": "code",
   "execution_count": 2,
   "id": "1aee3b6b",
   "metadata": {},
   "outputs": [
    {
     "name": "stdout",
     "output_type": "stream",
     "text": [
      "[1. 1. 1. 1. 1. 1. 1. 1. 1. 1.]\n"
     ]
    }
   ],
   "source": [
    "import numpy as np\n",
    "A = np.ones(10)\n",
    "print(A)"
   ]
  },
  {
   "cell_type": "markdown",
   "id": "64e40b5e",
   "metadata": {},
   "source": [
    "On peut accéder ou modifier des élément du vecteur `A` par ces indices, par example :"
   ]
  },
  {
   "cell_type": "code",
   "execution_count": 3,
   "id": "f477c58a",
   "metadata": {},
   "outputs": [
    {
     "name": "stdout",
     "output_type": "stream",
     "text": [
      "1.0\n",
      "[5. 1. 1. 1. 1. 1. 1. 1. 1. 1.]\n",
      "1.0\n"
     ]
    }
   ],
   "source": [
    "print(A[0])  # Premier élément\n",
    "A[0] = 5     # Modifier le premier élément\n",
    "print(A)\n",
    "print(A[-1]) # Dernier élément"
   ]
  },
  {
   "cell_type": "markdown",
   "id": "eb4ae594",
   "metadata": {},
   "source": [
    "Il faut bien avoir en tête que losque que l'on écrit `A[i] = l` on a \n",
    "```\n",
    "A (vecteur)        i (indice)        l (valeur)\n",
    "   │                   │                 │\n",
    "   └───────────────► A[i]      =         l\n",
    "```\n",
    "Ainsi, A ne peut prendre en crochet qu'un indice (entier)."
   ]
  },
  {
   "cell_type": "markdown",
   "id": "4824b3e8",
   "metadata": {},
   "source": [
    "Dans le suite du cours ne seront souvent ammené a mettre à jour un vecteur, par exemple :"
   ]
  },
  {
   "cell_type": "code",
   "execution_count": 7,
   "id": "8b2adffc",
   "metadata": {},
   "outputs": [
    {
     "name": "stdout",
     "output_type": "stream",
     "text": [
      "[0. 0. 0. 0. 0. 0. 0. 0. 0. 0.]\n",
      "[3. 3. 3. 3. 3. 3. 3. 3. 3. 3.]\n",
      "[4. 3. 0. 3. 3. 8. 3. 3. 3. 3.]\n"
     ]
    }
   ],
   "source": [
    "A = np.zeros(10)\n",
    "print(A)  \n",
    "A = A + 3     # Ajouter 3 à tous les éléments\n",
    "print(A)  \n",
    "A[0] += 1     # Modifier le premier élément\n",
    "A[2] -= 3     # Modifier le troisième élément\n",
    "A[5] += 5     # Modifier le cinquième élément\n",
    "print(A)\n"
   ]
  },
  {
   "cell_type": "markdown",
   "id": "2d2e88f7",
   "metadata": {},
   "source": [
    "# Tutorial 2 : Se familiariser avec les figures interactives\n",
    "\n",
    "Le but ici est de se familiariser avec les figures interactives. Le code suivant permet d'afficher une figure interactive, avec un affichage régulier (mais non systématique). Faites tourner le code suivant qui affiche la position d'une particule sur le cercle trigonométrique. Essayez de changer la fréquence `nbout`, essayez de commenter `ax.clear()` et d'en déduire son utilité."
   ]
  },
  {
   "cell_type": "code",
   "execution_count": 1,
   "id": "b06508bf",
   "metadata": {},
   "outputs": [
    {
     "data": {
      "image/png": "[encoded data removed]",
      "text/plain": [
       "<Figure size 640x480 with 1 Axes>"
      ]
     },
     "metadata": {},
     "output_type": "display_data"
    }
   ],
   "source": [
    "import numpy as np\n",
    "import matplotlib.pyplot as plt\n",
    "from IPython.display import clear_output, display\n",
    "\n",
    "nbit = 1300\n",
    "nbout = 30\n",
    "\n",
    "# create the figure outside the loop \n",
    "fig, ax = plt.subplots()\n",
    "\n",
    "for it in range(nbit):\n",
    "\n",
    "    if it%nbout==0:\n",
    "        clear_output(wait=True)  # clear the output in VS Code\n",
    "        ax.clear()\n",
    "        ax.scatter(np.cos(it*0.005), np.sin(it*0.005), c='k')\n",
    "        ax.set_xlim(-1.2, 1.2)\n",
    "        ax.set_ylim(-1.2, 1.2)\n",
    "        ax.set_aspect('equal')\n",
    "        display(fig)\n",
    "        plt.pause(0.1)  # pause to visualize updates\n",
    "     "
   ]
  },
  {
   "cell_type": "markdown",
   "id": "48e99dce",
   "metadata": {},
   "source": [
    "# Exercice 2: Trajectoire d'une voiture en 1D"
   ]
  },
  {
   "cell_type": "markdown",
   "id": "03603673",
   "metadata": {},
   "source": [
    "Le but de cet exercice est de résoudre un premier exercice avec une discrétisation temporelle en 1D en résolvant les équations de la dynamique.\n",
    "\n",
    "Une voiture se déplace sur une ligne droite à une vitesse $V=113$ km/h durant 16 heures et fait demi-tour dès que la distance $L=200$ km est parcourue. La vitesse de la voiture est définie comme un changement de position $x$ par temps $t$: \n",
    "\n",
    "$$V = \\frac{\\partial x}{\\partial t}$$\n",
    "\n",
    "Nous avons vu que cette dernière équation peut s'approximer ainsi:\n",
    "\n",
    "$$x_{t+\\Delta t} = x_t + V dt \\qquad (1),$$\n",
    "\n",
    "où $dt$ est le pas de temps. Ecrivez un code qui calcule la position de la voiture au cours du temps en suivant les étapes suivantes:\n",
    "- i) définir les quantités physiques du modèle (vitesse, longueur maximale, etc.), \n",
    "- ii) définir les paramètres numériques / la discrétisation numérique, \n",
    "- iii) initialiser la géométrie du modèle, et enfin \n",
    "- iv)  implémenter la règle de mis à jour (1) au sein d'une boucle. \n",
    "\n",
    "Vous pouvez tester l'influence de différentes valeurs du pas de temps. Voici une ébauche de code.\n",
    "\n",
    "```python\n",
    "# import librairies\n",
    "import numpy as np\n",
    "import matplotlib.pyplot as plt\n",
    "from IPython.display import clear_output, display\n",
    "\n",
    "# physical parameters\n",
    "V    = ...           # speed, km/h\n",
    "L    = ...           # maximum distance\n",
    "dire = 1             # direction of vehicle\n",
    "ttot = ...           # total time, hr\n",
    "\n",
    "# numerical parameters \n",
    "dt   = ...           # timestep, hr\n",
    "nt   =  ...          # nb of timesteps\n",
    "nout = 3\n",
    "\n",
    "# initialization\n",
    "time = 0 \n",
    "dist = 0\n",
    "\n",
    "# create the figure outside the loop \n",
    "fig, ax = plt.subplots(figsize=(10, 1))\n",
    "\n",
    "for it in range(1, nt):\n",
    "    time += ...      # update time\n",
    "    dist += ...      # update dist \n",
    "    if dist > L:\n",
    "        dire = -1       # make U turn\n",
    "    elif dist < 0:\n",
    "        dire = 1        # make U turn\n",
    "     \n",
    "    # vizualization\n",
    "    if it%nout==0:\n",
    "        clear_output(wait=True)  # clear the output in VS Code\n",
    "        ax.cla()  # clear the current axes\n",
    "        ax.scatter(dist, 0, c='k')  # plot all points up to current time step\n",
    "        ax.set_xlim(0, 200)  \n",
    "        ax.set_ylim(-1,1)  \n",
    "        ax.set_xlabel('Distance') \n",
    "        display(fig)  # display the figure\n",
    "        plt.pause(0.1)  # pause to visualize updates\n",
    "```\n",
    "\n",
    "Reprenez cette ébauche de code, complétez le (en remplaçant les ...) et faite le tourner dans un nouveau bloc.\n",
    "\n",
    "### ✅ **À vous de faire !**"
   ]
  },
  {
   "cell_type": "markdown",
   "id": "84be0d24",
   "metadata": {},
   "source": [
    "# Exercice 3: Trajectoire d'une voiture en 2D"
   ]
  },
  {
   "cell_type": "markdown",
   "id": "52904bf5",
   "metadata": {},
   "source": [
    "En se basant sur l'exercice précendent, supposez que la voiture se déplace dans un espace à deux dimensions durant 12 heures. La voiture a toujours une vitesse $V=113$ [km/h] mais elle le fait soit en direction du nord-est ou du nord-ouest. La voiture peut se déplacer dans un espace est-ouest (axe des x) de $L = 200$ km maximum. Elle commence son trajet au coin sud-ouest, part en direction du nord-est et tourne vers le nord-ouest une fois la longueur ouest-est $L$ dépassée et ainsi de suite en zig-zag. Ainsi la vitesse sud-nord est constante et la vitesse ouest-est oscille comme dans l'exercice précédent."
   ]
  },
  {
   "cell_type": "markdown",
   "id": "a924a577",
   "metadata": {},
   "source": [
    "Commencez par reprendre le code de l'exercice précédent et modifiez le pour introduire la dimension $y$ (sud-nord) supplémentaire. Au lieu de tracer la position du véhicule en fonction de $x$, tracez la en deux dimensions (y vs. x). Pensez à:\n",
    "\n",
    "- diviser la vitesse en deux composants: `V_x` et `V_y`,\n",
    "- utiliser deux vecteurs pour enregistrer les coordonnées de la voiture: `distx` and `disty`.\n",
    "- définir l'étendue de l'axe des ordonnées ($y$) de la figure pour éviter qu'elle ne change à chaque pas de temps grave aux fonctions `ax.set_xlim(0, 200)` et  `ax.set_ylim(0, 1000)`.  \n",
    "\n",
    "### ✅ **À vous de faire !**"
   ]
  }
 ],
 "metadata": {
  "kernelspec": {
   "display_name": "igm",
   "language": "python",
   "name": "python3"
  },
  "language_info": {
   "codemirror_mode": {
    "name": "ipython",
    "version": 3
   },
   "file_extension": ".py",
   "mimetype": "text/x-python",
   "name": "python",
   "nbconvert_exporter": "python",
   "pygments_lexer": "ipython3",
   "version": "3.10.16"
  }
 },
 "nbformat": 4,
 "nbformat_minor": 5
}
