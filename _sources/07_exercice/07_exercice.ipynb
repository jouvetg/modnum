{
 "cells": [
  {
   "cell_type": "markdown",
   "id": "2a2a530d",
   "metadata": {},
   "source": [
    "# Exercices 7\n",
    "\n",
    "[Télécharger l'exercice](../07_exercice.zip)"
   ]
  },
  {
   "cell_type": "markdown",
   "id": "fb708b40",
   "metadata": {},
   "source": [
    "# Exercise : Evolution du permafrost au Cervin\n",
    "\n",
    "Pour un premier exercice en deux dimensions, nous allons modéliser l'évolution de la température au sein du Cervin (coupe nord-sud) sous l'effet du réchauffement climatique. L'augmentation des températures en haute montagne est particulièrement problématique pour la stabilité des pentes et falaises dont la cohésion dépend de la présence de glace. Dans cet exercice, nous allons augmenter la température des flancs du Cervin (auparavent en équilibre thermique) et observer la migration de la limite du permafrost (et de fait l'étendue des pentes destabilisées). \n",
    " \n",
    "![](../illu_mod_num_s.png)\n",
    " \n",
    "## 1. Modèle élémentaire\n",
    "\n",
    "Avant de s'attaquer au Cervin, nous allons faire un modèle élémentaire dans un simple carré.  \n",
    "\n",
    "Le point clé de ce problème est de résoudre la diffusion dans un domaine en deux dimensions (2D), rectangulaire (Figure ci-dessous). L'évolution du champ de température $T$ qui se diffuse en deux dimensions ($x$ et $y$) est décrit par deux flux ($x$ et $y$) qui se combinent dans le taux de changement: \n",
    "\n",
    "$$\\frac{\\partial T}{\\partial t} = -\\left(\\frac{\\partial q_x}{\\partial x} +\\frac{\\partial q_y}{\\partial y}\\right)\\:$$\n",
    "\n",
    "et\n",
    "\n",
    "$$q_x = - D \\frac{\\partial T}{\\partial x} \\: ; \\: \\: q_y = - D \\frac{\\partial T}{\\partial y}.$$\n",
    "\n",
    "Nous commençons par modéliser l'évolution du champs de température dans un rectangle dont les paramètres (y compris les conditions initiales et de bords) sont donnés dans la Table. La matrice des températures peut être affichée avec `ax.imshow` comme dans la figure suivante.\n",
    " \n",
    "![](./fig/initial_rectangle.png)\n",
    "\n",
    "*L'équilibrage de la diffusion de température en deux dimensions sur un rectangle simple, ici avec des valeurs de conditions limites de 5°C et 15°C respectivement.\"\n",
    "\n",
    "### Paramètres\n",
    "\n",
    "| **Paramètres**                       | **Valeurs**                          |\n",
    "|--------------------------------------|--------------------------------------|\n",
    "| Longueur x                           | 3000 m                               |\n",
    "| Longueur y                           | 3000 m                               |\n",
    "| Température initiale                 | 10°C                                 |\n",
    "| Diffusivité                          | 3500 m²/yr                           |\n",
    "| Nombre de cellules nx                | 60                                   |\n",
    "| Nombre de cellules ny                | 70                                   |\n",
    "|                                      |                                      |\n",
    "| **modèle élémentaire:**              |                                      |\n",
    "| Température bord gauche              | 5°C                                  |\n",
    "| Température bord droite              | 15°C                                 |\n",
    "| Température bord haut                | 5°C                                  |\n",
    "| Température bord bas                 | 15°C                                 |\n",
    "| Temps total                          | 500 yr                               | \n",
    "\n",
    "\n",
    "### ✅ **À vous de faire !** "
   ]
  },
  {
   "cell_type": "markdown",
   "id": "c28f5079",
   "metadata": {},
   "source": [
    "\n",
    "## 2. Modèle réaliste du Cervin\n",
    "\n",
    "Afin de modéliser le Cervin simplement, nous réduirons sa géométrie à un carré, qu'il faudra imaginer tourné d'un angle de 45°. Nous reprendrons le code du modèle élémentaire.\n",
    "\n",
    "Nous créons deux vecteurs de conditions de bord qui représentent les faces nord et sud de la montagne. La température de la face nord va de 10°C au pied de la montagne à -15°C au sommet, et de 15 à -5°C en face sud. \n",
    "\n",
    "Le modèle tournera d'abord pendant 500 ans pour approcher un équilibre thermique. Puis, le réchauffement des faces sud et nord peut commencer (en modifiant les conditions limites nord et sud uniformément). Une fois que l'équilibrage thermique fonctionne bien, l'affichage des figures peut être limité à la dernière phase de réchauffement (100 ans au total). \n",
    "\n",
    "Bien que ce modèle soit trés simplifié, il nous permet de constater une dynamique existante dans le massif Alpin. En observant le déplacement de la limite du zéro degré Celsius, nous pouvons nous interroger sur le risque lié à la fonte du pergélisol en milieu alpin, avec les conséquence sur le paysage et la société. \n",
    "\n",
    "Les valeurs de bord et de réchauffement de la Table ci-dessous ne sont que des suggestions, nous pouvons explorer une myriade de scénarios.  \n",
    " \n",
    "| **Paramètres**                       | **Valeurs**                          |\n",
    "|--------------------------------------|--------------------------------------|\n",
    "| **modèle réaliste:**                 |                                      |\n",
    "| Température face nord                | gradient de 10 à -15°C              |\n",
    "| Température face sud                 | gradient de 15 à -5°C                |\n",
    "| Température bords restants           | 10°C                                 |\n",
    "| Temps total                          | 600 yr                               |\n",
    "| Début du réchauffement               | 500 yr                               |\n",
    "| Réchauffement au nord                | +0.04°C/yr                          |\n",
    "| Réchauffement au sud                 | +0.08°C/yr                          |\n",
    "\n",
    "![](./fig/matterhorn.png)\n",
    "\n",
    "*But de l'exercice: Modéliser le géotherme au travers du Matterhorn (sérieusement idéalisé) après 100 ans de réchauffement. Il faut tourner la tête de 45° pour s'imaginer le Matterhorn pointant au ciel.*\n",
    "\n",
    "### ✅ **À vous de faire !** "
   ]
  },
  {
   "cell_type": "markdown",
   "id": "3c01136e",
   "metadata": {},
   "source": []
  }
 ],
 "metadata": {
  "kernelspec": {
   "display_name": "Python 3",
   "language": "python",
   "name": "python3"
  },
  "language_info": {
   "codemirror_mode": {
    "name": "ipython",
    "version": 3
   },
   "file_extension": ".py",
   "mimetype": "text/x-python",
   "name": "python",
   "nbconvert_exporter": "python",
   "pygments_lexer": "ipython3",
   "version": "3.10.12"
  }
 },
 "nbformat": 4,
 "nbformat_minor": 5
}
