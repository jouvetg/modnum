{
 "cells": [
  {
   "cell_type": "markdown",
   "id": "d69669c5",
   "metadata": {},
   "source": [
    "# Exercices 9"
   ]
  },
  {
   "cell_type": "markdown",
   "id": "e647f8e9",
   "metadata": {},
   "source": [
    "\n",
    "# Exercice : Contamination dans un lac\n",
    "\n",
    "Nous allons étendre l'exercice de contamination d'une rivière de 1D à 2D. On suppose la fuite continue (constante dans le temps) d'un contaminant dans un lac qui est animé d'un courant en $x$ et $y$ (Figure ci-dessous). La source de contamination est un périmètre circulaire centré en $x_{src} = L_x/4$ et $y_{src} = L_y/4$ de rayon $r_C = 1.5$ m. Pour cela, vous pouvez utiliser la fonction `np.meshgrid`.\n",
    "\n",
    "Le polluant se décompose avec une constante de décroissance de $\\gamma = 0.001 \\, \\text{s}^{-1}$. Les équations à résoudre sont presque les mêmes que pour l'exercice précédent, à l'exception du terme du taux de dégradation (ou de réaction) :\n",
    "\n",
    "$$\\frac{\\partial C}{\\partial t} = -\\frac{\\partial q_x}{\\partial x} -\\frac{\\partial q_y}{\\partial y} - V_x \\frac{\\partial C}{\\partial x} - V_y \\frac{\\partial C}{\\partial y}\\ -\\gamma C,\\: $$\n",
    "\n",
    "$$q_x = - D \\frac{\\partial C}{\\partial x} \\: ; \\: \\: q_y = - D \\frac{\\partial C}{\\partial y}$$\n",
    "\n",
    "où $C$ est la concentration du contaminant, $D$ est la diffusivité, et $V_x$ et $V_y$ sont les vitesses horizontales de l'eau. Nous supposons que la concentration sur les bords du domaine est nulle en tout temps. \n",
    " \n",
    "![](./fig/ex_2.png)\n",
    "\n",
    "*Figure: Let but de l'exercise est de modéliser l'évolution d'un contaminant dans un lac (ici Q=2).*\n",
    "\n",
    "Nous voulons écrire un code avec deux variantes. Définissez un paramètre Q, qui vaut 1 ou 2, et utilisez des clauses conditionnelles pour écrire un unique code générique qui fonctionne pour les deux variantes.\n",
    "\n",
    "- Q1: Réalisez une première simulation avec une vitesse uniforme sur tout le domaine.\n",
    "- Q2: Ensuite, changez le signe de la vitesse `V_x` dans la partie supérieure du modèle ($y > L_y/2$).\n",
    "\n",
    "\n",
    "\n",
    "| **Paramètres:**                               | **Valeurs:**              |\n",
    "|-----------------------------------------------|---------------------------|\n",
    "| Concentration du polluant \"Cmax\"             | 20                        |\n",
    "| Longueur $x$ du modèle $L_x$                 | 50 m                      |\n",
    "| Longueur $y$ du modèle $L_y$                 | 50 m                      |\n",
    "| Centre de la fuite $x$                       | $L_x/4$ m                 |\n",
    "| Centre de la fuite $y$                       | $L_y/4$ m                 |\n",
    "| Rayon de la fuite $r_C$                      | 1.5 m                     |\n",
    "| Nombre de cellules \"nx\"                       | 110                       |\n",
    "| Nombre de cellules \"ny\"                       | 120                       |\n",
    "| Temps total                                   | 500 s                     |\n",
    "| Diffusivité du polluant                       | 0.02 m²/s                 |\n",
    "| Constante de décroissance $\\gamma$           | 0.001                     |\n",
    "| **Q=1**                                       |                           |\n",
    "| Vitesse x du lac $V_x$                       | 0.1 m/s                   |\n",
    "| Vitesse y du lac $V_y$                       | 0.2 m/s                   |\n",
    "| **Q=2**                                      |                           |\n",
    "| $V_x$ dans la moitié inférieure               | 0.1 m/s                   |\n",
    "| $V_x$ dans la moitié supérieure               | -0.1 m/s                  |\n",
    "| Vitesse y du lac $V_y$                       | 0.2 m/s                   |\n",
    "\n",
    "*Table 1: Paramètres pour le problème du lac.*\n",
    "\n",
    "### ✅ **À vous de faire !** "
   ]
  }
 ],
 "metadata": {
  "kernelspec": {
   "display_name": "Python 3",
   "language": "python",
   "name": "python3"
  },
  "language_info": {
   "codemirror_mode": {
    "name": "ipython",
    "version": 3
   },
   "file_extension": ".py",
   "mimetype": "text/x-python",
   "name": "python",
   "nbconvert_exporter": "python",
   "pygments_lexer": "ipython3",
   "version": "3.8.10"
  }
 },
 "nbformat": 4,
 "nbformat_minor": 5
}
