{
 "cells": [
  {
   "cell_type": "markdown",
   "id": "38883e60",
   "metadata": {},
   "source": [
    "# Exercices 5"
   ]
  },
  {
   "cell_type": "markdown",
   "id": "927e711b",
   "metadata": {},
   "source": [
    "# Exercise : Intrusion magmatique "
   ]
  },
  {
   "cell_type": "markdown",
   "id": "5f6c4c64",
   "metadata": {},
   "source": [
    "Le but de cet exercice est de modéliser deux intrusions magmatiques successives qui réchauffent la roche environnante en résolvant un problème de diffusion. Ce problème peut être simplifié en une dimension (1D) où la dimension $x$ représente la distance orthogonale aux intrusions.\n",
    " \n",
    "![](./fig/dykes.png)\n",
    "\n",
    "*Figure 1: Représentation des deux intrusions successives et la diffusion de leur chaleur dans la roche environnante.*\n",
    "\n",
    "Les deux intrusions s'infiltrent l'une après l'autre à une profondeur d'environ 1 km, où la roche encaissante a une température de 30°C. La température initiale des intrusions est de 1000°C, et le magma commence à refroidir dès son arrivée à cet emplacement. La seconde intrusion s'infiltre 15 ans plus tard, à 30 m à droite de la première (mesurée entre leurs centres). La première intrusion a une épaisseur de 24 m, tandis que la seconde mesure 10 m d'épaisseur. La simulation débute immédiatement après la formation de la première intrusion. Aux deux extrémités (gauche et droite) de l'espace à modéliser, la roche est fracturée et traverse un flux d'eau important, maintenant ainsi une température constante de 30°C.\n",
    "\n",
    "Pour résoudre ce problème, il faut discrétiser et implémenter les mêmes équations de diffusion thermique :\n",
    "\n",
    "$$ q = -D \\frac{\\partial T}{dx}, \\qquad (1) $$\n",
    "$$ \\frac{\\partial T}{\\partial t} = -\\frac{\\partial q}{\\partial x}. \\qquad (2) $$\n",
    "\n",
    "Les paramètres physiques sont donnés dans la table suivante :\n",
    "\n",
    "**Table: paramètres du modèle**\n",
    "\n",
    "| **Paramètres**                | **Valeurs**         |\n",
    "|-------------------------------|---------------------|\n",
    "| Température ambiante          | 30°C                |\n",
    "| Température de l'intrusion    | 1000°C              |\n",
    "| Température limite gauche     | 30°C                |\n",
    "| Température limite droite     | 30°C                |\n",
    "| Centre de l'intrusion 1       | 80 m                |\n",
    "| Centre de l'intrusion 2       | 110 m               |\n",
    "| Épaisseur de l'intrusion 1    | 24 m                |\n",
    "| Épaisseur de l'intrusion 2    | 10 m                |\n",
    "| Intrusion de l'intrusion 2    | 15 ans              |\n",
    "| Diffusivité de la roche       | 50 m²/yr            |\n",
    "| Longueur du modèle            | 200 m               |\n",
    "\n",
    "Écrire un code afin de répondre aux questions suivantes. Il s'agit d'écrire un code unique, avec un paramètre `Q` défini à `1` ou `2` pour traiter les questions 1 et 2.\n",
    "\n",
    "**Q1 :** Après combien de temps une sonde positionnée 80 m à droite du centre de la première intrusion enregistrera une température de 100°C ? Stoppez votre code quand cette condition est remplie. \n",
    "\n",
    "**Q2 :** Changez les deux conditions de bords en supposant un flux nul de chaleur et refaites l'expérience. Analysez l'influence des conditions de bords sur le temps de passage de la sonde au-delà de 100°C.\n",
    "\n",
    "### ✅ **À vous de faire !** "
   ]
  }
 ],
 "metadata": {
  "kernelspec": {
   "display_name": "Python 3",
   "language": "python",
   "name": "python3"
  },
  "language_info": {
   "codemirror_mode": {
    "name": "ipython",
    "version": 3
   },
   "file_extension": ".py",
   "mimetype": "text/x-python",
   "name": "python",
   "nbconvert_exporter": "python",
   "pygments_lexer": "ipython3",
   "version": "3.10.12"
  }
 },
 "nbformat": 4,
 "nbformat_minor": 5
}