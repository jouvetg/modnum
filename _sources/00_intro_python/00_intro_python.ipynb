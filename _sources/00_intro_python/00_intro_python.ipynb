{
 "cells": [
  {
   "cell_type": "markdown",
   "id": "df49332c",
   "metadata": {},
   "source": [
    "# Introduction à Python\n",
    "\n",
    "Contenu : \n",
    "1. Fondamentaux \n",
    "2. Calculs matriciels (NumPy) \n",
    "3. Visualisation (Matplotlib)\n",
    "4. Exercice sur les générateurs aléatoires\n",
    "5. Exercice sur la manipulation de vecteurs"
   ]
  },
  {
   "cell_type": "markdown",
   "id": "6a21c816",
   "metadata": {},
   "source": [
    "## 1 Fondamentaux"
   ]
  },
  {
   "cell_type": "markdown",
   "id": "c4115e39",
   "metadata": {},
   "source": [
    "### 1.1 Aperçu\n",
    "\n",
    "Programmer en Python consiste à écrire un script (un fichier texte éditable avec une extension `.py`, par exemple `monScript.py`, qui contient une série de commandes) et à l'exécuter dans un terminal ou une console avec la commande suivante : `python monScript.py`. Ce tutoriel a pour but d'apprendre les commandes essentielles de Python.\n",
    "\n"
   ]
  },
  {
   "cell_type": "markdown",
   "id": "08a97eda",
   "metadata": {},
   "source": [
    "### 1.2 Premiers Pas\n",
    "\n",
    "Python fonctionne comme une calculatrice : on peut y effectuer toutes les opérations mathématiques souhaitées et afficher le résultat avec la fonction `print` :\n"
   ]
  },
  {
   "cell_type": "code",
   "execution_count": null,
   "id": "458f8a26",
   "metadata": {},
   "outputs": [],
   "source": [
    "print(1+2*90/3-4)"
   ]
  },
  {
   "cell_type": "markdown",
   "id": "e984f664",
   "metadata": {},
   "source": [
    "Notons que l'opérateur `**` est la puissance, `//` est la division euclidienne, et `%` est le reste de la division :\n"
   ]
  },
  {
   "cell_type": "code",
   "execution_count": null,
   "id": "870f8de1",
   "metadata": {},
   "outputs": [],
   "source": [
    "print(2**3,10//3,10%3)"
   ]
  },
  {
   "cell_type": "markdown",
   "id": "beb5f0e0",
   "metadata": {},
   "source": [
    "En Python, les commentaires sont indiqués par le signe `#`. Ils peuvent être sur une ligne complète ou après le code.\n"
   ]
  },
  {
   "cell_type": "code",
   "execution_count": null,
   "id": "b2faeb13",
   "metadata": {},
   "outputs": [],
   "source": [
    "# cette ligne est commentée, elle ne sera pas excutée\n",
    "print(10)  # cette ligne n'est pas commentée"
   ]
  },
  {
   "cell_type": "markdown",
   "id": "9d8b32d7",
   "metadata": {},
   "source": [
    "### 1.3 Variables\n",
    "\n",
    "En Python, on peut définir des variables, qui peuvent avoir plusieurs types différents : entier (int), nombre à virgule (float), chaîne de caractères (str) ou booléen (bool). On assigne une valeur via le symbole `=`, on peut vérifier sa valeur via la fonction `print`, et son type via la fonction `type` :\n"
   ]
  },
  {
   "cell_type": "code",
   "execution_count": null,
   "id": "23728830",
   "metadata": {},
   "outputs": [],
   "source": [
    "var1=10\n",
    "var2=3.5\n",
    "var3=\"Python\"\n",
    "var4=True\n",
    "print(\"valeurs des variables:\",var1,var2,var3,var4)\n",
    "print(\"types des variables:\",type(var1),type(var2),type(var3),type(var4))"
   ]
  },
  {
   "cell_type": "markdown",
   "id": "ceb5d4ee",
   "metadata": {},
   "source": [
    "On peut faire bon nombre d'opérations sur les variables, par exemple :"
   ]
  },
  {
   "cell_type": "code",
   "execution_count": null,
   "id": "ad0e6637",
   "metadata": {},
   "outputs": [],
   "source": [
    "print(var1+var2*var1)      # operation algebrique\n",
    "print(var3+var3)           # operation sur les chaines de caracteres\n",
    "print(var4 and not True)   # operation logique"
   ]
  },
  {
   "cell_type": "markdown",
   "id": "2332bf03",
   "metadata": {},
   "source": [
    "### 1.4 Les Listes\n",
    "\n",
    "Les listes sont des éléments importants en Python. Elles sont définies avec des crochets `[]` et peuvent être constituées de tous les types d'objets.\n"
   ]
  },
  {
   "cell_type": "code",
   "execution_count": 6,
   "id": "faea2f60",
   "metadata": {},
   "outputs": [],
   "source": [
    "list1=[3,5,6, True]"
   ]
  },
  {
   "cell_type": "markdown",
   "id": "625a2021",
   "metadata": {},
   "source": [
    "On accède à un élément ou une sous-liste d'une liste en utilisant []:"
   ]
  },
  {
   "cell_type": "code",
   "execution_count": null,
   "id": "2eb19afd",
   "metadata": {},
   "outputs": [],
   "source": [
    "print(list1[0])    # Extraire le premier élément\n",
    "print(list1[0:2])  # Extraire les 2 premiers éléments\n",
    "print(list1[-1])   # Extraire le dernier élément\n",
    "print(list1[-3:])  # Extraire les 3 dernier élément"
   ]
  },
  {
   "cell_type": "markdown",
   "id": "dada686b",
   "metadata": {},
   "source": [
    "Les chaînes de caractères (str) peuvent aussi être vues comme des listes de caractères :"
   ]
  },
  {
   "cell_type": "code",
   "execution_count": 8,
   "id": "4a9f96db",
   "metadata": {},
   "outputs": [],
   "source": [
    "chaine1=\"Python_pour_le_data_scientist\""
   ]
  },
  {
   "cell_type": "markdown",
   "id": "6cdddd20",
   "metadata": {},
   "source": [
    "Une chaîne de caractères est en fait une liste spécifique dans laquelle chaque élément est un caractère :"
   ]
  },
  {
   "cell_type": "code",
   "execution_count": null,
   "id": "a920919f",
   "metadata": {},
   "outputs": [],
   "source": [
    "print(chaine1[:6])\n",
    "print(chaine1[-14:])\n",
    "print(chaine1[15:20])"
   ]
  },
  {
   "cell_type": "markdown",
   "id": "65b8f0de",
   "metadata": {},
   "source": [
    "### 1.5 Fonctions prédéfinies et aide"
   ]
  },
  {
   "cell_type": "markdown",
   "id": "549e9c18",
   "metadata": {},
   "source": [
    "Python dispose d'un certain nombre de fonctions prédéfinies :\n"
   ]
  },
  {
   "cell_type": "code",
   "execution_count": null,
   "id": "b1c785e6",
   "metadata": {},
   "outputs": [],
   "source": [
    "print(max(1,2))\n",
    "l = [1,2,3,4,5]\n",
    "print(max(l), min(l), sum(l))  \n",
    "print(int(3.5))"
   ]
  },
  {
   "cell_type": "markdown",
   "id": "81fb8189",
   "metadata": {},
   "source": [
    "Vous pouvez accéder à l'aide de chaque fonction Python en utilisant :"
   ]
  },
  {
   "cell_type": "code",
   "execution_count": null,
   "id": "298750d3",
   "metadata": {},
   "outputs": [],
   "source": [
    "help(sum)"
   ]
  },
  {
   "cell_type": "markdown",
   "id": "fd32dabc",
   "metadata": {},
   "source": [
    "### 1.6 Clauses conditionnelles : if, elif, else\n",
    "\n",
    "Les conditions sont simples à mettre en place en Python. **Il faut toutefois respecter l'indentation, c'est-à-dire décaler les blocs de commandes conditionnelles avec des espaces :**"
   ]
  },
  {
   "cell_type": "code",
   "execution_count": null,
   "id": "3a95f7e6",
   "metadata": {},
   "outputs": [],
   "source": [
    "a=True\n",
    "if a:\n",
    "    print(\"c'est vrai\")"
   ]
  },
  {
   "cell_type": "code",
   "execution_count": null,
   "id": "93862000",
   "metadata": {},
   "outputs": [],
   "source": [
    "# on ajoute une alternative\n",
    "if a:\n",
    "    print(\"c'est vrai\")\n",
    "else:\n",
    "    print(\"ce n'est pas vrai\")"
   ]
  },
  {
   "cell_type": "code",
   "execution_count": null,
   "id": "2184e69d",
   "metadata": {},
   "outputs": [],
   "source": [
    "a = True\n",
    "if a is True :\n",
    "    print(\"c'est vrai\")\n",
    "elif a is False :\n",
    "    print(\"c'est faux\")\n",
    "else :\n",
    "    print(\"ce n'est pas un booléen\")"
   ]
  },
  {
   "cell_type": "markdown",
   "id": "73d3cacf",
   "metadata": {},
   "source": [
    "On peut utiliser en Python `==` pour tester si deux choses sont égales, ainsi que `<`, `>`, `<=`, `>=`, et `!=` (negation de `==`)."
   ]
  },
  {
   "cell_type": "code",
   "execution_count": null,
   "id": "14cc3d43",
   "metadata": {},
   "outputs": [],
   "source": [
    "a=50\n",
    "if a<25 :\n",
    "    print(\"a est inferieur a 25\")\n",
    "else :\n",
    "    print(\"a est superieur a 25\")"
   ]
  },
  {
   "cell_type": "markdown",
   "id": "d9c9a70d",
   "metadata": {},
   "source": [
    "### 1.7 Les Boucles : for, while\n",
    "\n",
    "La boucle *for* itère sur les éléments d'un objet. Avec une liste, on a :"
   ]
  },
  {
   "cell_type": "code",
   "execution_count": null,
   "id": "3cc997c6",
   "metadata": {},
   "outputs": [],
   "source": [
    "for e in [1, 2]:\n",
    "    print(e)"
   ]
  },
  {
   "cell_type": "markdown",
   "id": "8a7e75c1",
   "metadata": {},
   "source": [
    "La fonction `range()` permet de générer une suite d'entiers :\n"
   ]
  },
  {
   "cell_type": "code",
   "execution_count": null,
   "id": "bf05c6ed",
   "metadata": {},
   "outputs": [],
   "source": [
    "print(list(range(5)))      # en commençant de 0\n",
    "print(list(range(2,5)))    # en commençant de 2\n",
    "print(list(range(2,15,2))) # chaque 2 entiers"
   ]
  },
  {
   "cell_type": "markdown",
   "id": "1671c0d9",
   "metadata": {},
   "source": [
    "Pour générer une boucle sur des entiers de 0 à 10, on utilise :"
   ]
  },
  {
   "cell_type": "code",
   "execution_count": null,
   "id": "ec30de34",
   "metadata": {},
   "outputs": [],
   "source": [
    "for i in range(10) :\n",
    "    print(i)"
   ]
  },
  {
   "cell_type": "markdown",
   "id": "77694759",
   "metadata": {},
   "source": [
    "**Attention, Python commence la numérotation à partir de 0, et la dernière valeur est toujours exclue !**"
   ]
  },
  {
   "cell_type": "markdown",
   "id": "f2a889e7",
   "metadata": {},
   "source": [
    "La boucle *while* a un fonctionnement classique en Python :"
   ]
  },
  {
   "cell_type": "code",
   "execution_count": null,
   "id": "aec467cb",
   "metadata": {},
   "outputs": [],
   "source": [
    "i=1\n",
    "val_stop=50\n",
    "while i<100 :\n",
    "    i+=1            # cette ligne est équivalente à i=i+1, elle permet d'incrémenter i par 1\n",
    "    if i>val_stop :\n",
    "        break       # break permet de sortir de la boucle\n",
    "print(i)"
   ]
  },
  {
   "cell_type": "markdown",
   "id": "e8a7cbc7",
   "metadata": {},
   "source": [
    "### 1.8 Les fonctions\n",
    "Il est très simple de définir des fonctions en Python :"
   ]
  },
  {
   "cell_type": "code",
   "execution_count": 20,
   "id": "562e584f",
   "metadata": {},
   "outputs": [],
   "source": [
    "def ma_fonc(a,b) :\n",
    "    print(a+b)"
   ]
  },
  {
   "cell_type": "code",
   "execution_count": null,
   "id": "c83637cd",
   "metadata": {},
   "outputs": [],
   "source": [
    "# on a peut appeler une fonction de manières différentes\n",
    "ma_fonc(a=4, b=6)\n",
    "ma_fonc(4,6)\n",
    "ma_fonc(b=6, a=4)"
   ]
  },
  {
   "cell_type": "markdown",
   "id": "0605972b",
   "metadata": {},
   "source": [
    "Une fonction peut avoir plusieurs sorties/outputs:"
   ]
  },
  {
   "cell_type": "code",
   "execution_count": 22,
   "id": "46f27393",
   "metadata": {},
   "outputs": [],
   "source": [
    "def ma_fonc(a, b) :\n",
    "    return a+b, a-b"
   ]
  },
  {
   "cell_type": "code",
   "execution_count": null,
   "id": "bc8fcaaf",
   "metadata": {},
   "outputs": [],
   "source": [
    "val1, val2=ma_fonc(2,5)\n",
    "print(val1, val2)"
   ]
  },
  {
   "cell_type": "markdown",
   "id": "eb89a8b4",
   "metadata": {},
   "source": [
    "### 1.9 Modules\n",
    "\n",
    "Il existe un très grand nombre d'outils (appelés modules ou bibliothèques) que les utilisateurs peuvent installer, charger/importer (via la commande *import*), et utiliser. Par exemple :\n"
   ]
  },
  {
   "cell_type": "code",
   "execution_count": null,
   "id": "67affce9",
   "metadata": {},
   "outputs": [],
   "source": [
    "import datetime  # Permet d'importer le module datetime, qui permet d'obtenir l'heure et la date\n",
    "print(datetime.date.today())  "
   ]
  },
  {
   "cell_type": "code",
   "execution_count": null,
   "id": "b609c8cb",
   "metadata": {},
   "outputs": [],
   "source": [
    "\n",
    "import math # permet d'importer le module math, qui permet de faire des calculs mathématiques\n",
    "print(math.pi) # retournera 3.141592653589793"
   ]
  },
  {
   "cell_type": "code",
   "execution_count": null,
   "id": "c47b92bd",
   "metadata": {},
   "outputs": [],
   "source": [
    "import numpy as np # permet d'importer le module numpy, qui permet de faire des calculs mathématiques\n",
    "A= np.ones((3,4))  # cela créera une matrice de 3 lignes et 4 colonnes, remplie de 1\n",
    "B= np.zeros((3,4)) # cela créera une matrice de 3 lignes et 4 colonnes, remplie de 0\n",
    "print(A+B)"
   ]
  },
  {
   "cell_type": "code",
   "execution_count": null,
   "id": "5b44afaf",
   "metadata": {},
   "outputs": [],
   "source": [
    "import matplotlib.pyplot as plt # permet de faire des graphiques\n",
    "import numpy as np\n",
    "X = np.random.uniform(10,100,(10))\n",
    "plt.plot(X)"
   ]
  },
  {
   "cell_type": "markdown",
   "id": "fb125408",
   "metadata": {},
   "source": [
    "On donne souvent des noms courts aux packages par simplicité, et pour s'économiser des lignes de code."
   ]
  },
  {
   "cell_type": "code",
   "execution_count": 28,
   "id": "4399d7c3",
   "metadata": {},
   "outputs": [],
   "source": [
    "import numpy as np # dans ce cas, nous appelons le module numpy et lui donnons un alias np"
   ]
  },
  {
   "cell_type": "markdown",
   "id": "ea7f837b",
   "metadata": {},
   "source": [
    "## 2 Calculs matriciels avec numpy"
   ]
  },
  {
   "cell_type": "markdown",
   "id": "43df0986",
   "metadata": {},
   "source": [
    "### 2.1 Creation de matrices (array) *numpy*"
   ]
  },
  {
   "cell_type": "markdown",
   "id": "e8d2ea04",
   "metadata": {},
   "source": [
    "On commence par importer la bibliothèque NumPy:\n"
   ]
  },
  {
   "cell_type": "code",
   "execution_count": 29,
   "id": "0b512edd",
   "metadata": {},
   "outputs": [],
   "source": [
    "import numpy as np"
   ]
  },
  {
   "cell_type": "markdown",
   "id": "10fab1e0",
   "metadata": {},
   "source": [
    "Ensuite, nous allons créer des vecteurs `array` avec NumPy en 1D. Tout cela sera ensuite généralisé en 2D, 3D, ... nD."
   ]
  },
  {
   "cell_type": "code",
   "execution_count": null,
   "id": "ca0f6d09",
   "metadata": {},
   "outputs": [],
   "source": [
    "array_de_liste=np.array([1,4,7,9]) # on crée un tableau à partir d'une liste\n",
    "print(array_de_liste)"
   ]
  },
  {
   "cell_type": "code",
   "execution_count": null,
   "id": "b2e19426",
   "metadata": {},
   "outputs": [],
   "source": [
    "array_range=np.arange(10) # on crée un array de 0 à 9\n",
    "print(array_range)"
   ]
  },
  {
   "cell_type": "code",
   "execution_count": null,
   "id": "02b6be0a",
   "metadata": {},
   "outputs": [],
   "source": [
    "array_linspace=np.linspace(0,1,20) # entre 0 et 1, avec 20 valeurs\n",
    "print(array_linspace)"
   ]
  },
  {
   "cell_type": "code",
   "execution_count": null,
   "id": "d516d780",
   "metadata": {},
   "outputs": [],
   "source": [
    "array_ones=np.ones(4)  # e tableau de 1 avec 4 éléments\n",
    "print(array_ones)"
   ]
  },
  {
   "cell_type": "markdown",
   "id": "32c7e15f",
   "metadata": {},
   "source": [
    "Pour passer à deux dimensions, on utilise :"
   ]
  },
  {
   "cell_type": "code",
   "execution_count": null,
   "id": "35b62c1f",
   "metadata": {},
   "outputs": [],
   "source": [
    "O=np.array([[0,1,2],[3,4,5],[6,7,8]]) # creation matrice 2D de dim (3,3)\n",
    "print('O= ',O)\n",
    "A = np.zeros((3,3)) # creation matrice 2D de dim (3,3) de zeros\n",
    "print('A= ',A)\n",
    "B = np.ones((2,2))  # creation matrice 2D de dim (2,2) de uns\n",
    "print('B= ',B)\n",
    "C = np.eye((10))    # creation matrice 2D de dim (10,10) diagonale de un\n",
    "print('C= ',C)\n",
    "D = np.arange(10)   # creation vecteur [0,1,...,9]\n",
    "print('D= ',D)\n",
    "E = np.linspace(0,1,11) # creation vecteur [0,0.1,...,1]\n",
    "print('E= ',E)"
   ]
  },
  {
   "cell_type": "markdown",
   "id": "2bfd387d",
   "metadata": {},
   "source": [
    "Nous pouvons créer des matrices en 3D, 4D, ... (aussi appelées tenseurs), mais nous ne les utiliserons pas dans le cours.\n"
   ]
  },
  {
   "cell_type": "markdown",
   "id": "90e3038e",
   "metadata": {},
   "source": [
    "### 2.2 Forme (shape) d'un array numpy"
   ]
  },
  {
   "cell_type": "markdown",
   "id": "59aff9da",
   "metadata": {},
   "source": [
    "La dimension (taille) d'une matrice est une donnée essentielle ; cela s'appelle forme / `shape` :"
   ]
  },
  {
   "cell_type": "code",
   "execution_count": null,
   "id": "f8567cd7",
   "metadata": {},
   "outputs": [],
   "source": [
    "import numpy as np\n",
    "A = np.array([0,1,2]) \n",
    "print(np.shape(A))                    \n",
    "B = np.array([[0,1,2],[3,4,5],[6,7,8]])\n",
    "print(np.shape(B))     \n",
    "C = np.eye((10))     \n",
    "print(np.shape(C))  "
   ]
  },
  {
   "cell_type": "markdown",
   "id": "74324c46",
   "metadata": {},
   "source": [
    "### 2.3 Accés indices, slicing, incrémentation"
   ]
  },
  {
   "cell_type": "markdown",
   "id": "c9797b06",
   "metadata": {},
   "source": [
    "Comme pour les listes, on accède à un élément d'un tableau avec les crochets. Les indices vont toujours de 0 à n-1, où n est la taille de la dimension spécifiée par la forme du tableau (shape).\n",
    "\n",
    "Pour un tableau à plusieurs dimensions, on utilise plusieurs indices dans les crochets : `Z[0]` représente la première ligne (ligne 0) de `Z`, tandis que `Z[0, 0]` correspond à l'élément à la position (0, 0), c'est-à-dire à la première ligne (ligne 0) et à la première colonne (colonne 0).\n"
   ]
  },
  {
   "cell_type": "code",
   "execution_count": null,
   "id": "3aa4d9bb",
   "metadata": {},
   "outputs": [],
   "source": [
    "import numpy as np\n",
    "B = np.array([[0,1,2],[3,4,5],[6,7,8]])\n",
    "print(\"ligne 1 et colonne 1: \", B[1,1]) \n",
    "print(\"ligne 1: \",B[1,:]) \n",
    "print(\"lignes 1 et 2 et les colonnes 0 et 1 :\", B[1:,0:2]) "
   ]
  },
  {
   "cell_type": "markdown",
   "id": "1132dc1f",
   "metadata": {},
   "source": [
    "Notons qu'il est possible d'extraire une sous-matrice en sélectionnant les indices en partant de la fin. Par exemple, cette ligne extrait les 2 premiers éléments et les 3 derniers éléments :"
   ]
  },
  {
   "cell_type": "code",
   "execution_count": null,
   "id": "e62ee8a2",
   "metadata": {},
   "outputs": [],
   "source": [
    "E = np.array([0,1,2,3,4,5,6,7,8,9]) \n",
    "print(E[2:-3])  "
   ]
  },
  {
   "cell_type": "markdown",
   "id": "1681e15b",
   "metadata": {},
   "source": [
    "Il est également possible de ne considérer que les lignes à chaque X colonnes avec l'opérateur `:`. Par exemple, la commande suivante ne garde que les éléments à chaque 3e position :\n"
   ]
  },
  {
   "cell_type": "code",
   "execution_count": null,
   "id": "069e7fa2",
   "metadata": {},
   "outputs": [],
   "source": [
    "E = np.array([0,1,2,3,4,5,6,7,8,9]) \n",
    "print(E[::3]) # affiche un élément sur 3"
   ]
  },
  {
   "cell_type": "markdown",
   "id": "4aa10392",
   "metadata": {},
   "source": [
    "Nous pouvons également changer des éléments d'une matrice en utilisant le même formalisme :\n"
   ]
  },
  {
   "cell_type": "code",
   "execution_count": null,
   "id": "abd131ba",
   "metadata": {},
   "outputs": [],
   "source": [
    "B = np.array([[0,1,2],[3,4,5],[6,7,8]])\n",
    "print(\"avant :\",B)\n",
    "B[1,1] = 10 \n",
    "B[2,:] = 0  \n",
    "print(\"apres :\",B)"
   ]
  },
  {
   "cell_type": "markdown",
   "id": "56e85551",
   "metadata": {},
   "source": [
    "### 2.4 Opérations\n",
    "\n",
    "Les opérations sur les tableaux (arrays) sont des opérations terme à terme:"
   ]
  },
  {
   "cell_type": "code",
   "execution_count": null,
   "id": "bb10cdc6",
   "metadata": {},
   "outputs": [],
   "source": [
    "arr1=np.array([1,4,9,5])\n",
    "arr2=np.ones(4)\n",
    "print(arr1+arr2) "
   ]
  },
  {
   "cell_type": "markdown",
   "id": "36624046",
   "metadata": {},
   "source": [
    "Mais on ne peut pas faire la somme de ces tableaux car ils n'ont pas de dimensions communes, e.g.\n",
    "```python\n",
    "arr1=np.array([1,4])\n",
    "arr2=np.ones(4)\n",
    "print(arr1+arr2) \n",
    "```\n",
    "donnerait une erreure, car la premiere a une `shape` de (2,) et le deuxième de (4,)."
   ]
  },
  {
   "cell_type": "markdown",
   "id": "1b7e830c",
   "metadata": {},
   "source": [
    "Les opérations algébriques usuelles ainsi que les fonctions NumPy peuvent être appliquées directement sur un tableau et sont effectuées terme à terme, et ce, de manière beaucoup plus rapide qu’en faisant une boucle sur tous les éléments du tableau. Par exemple :\n"
   ]
  },
  {
   "cell_type": "code",
   "execution_count": null,
   "id": "b425f790",
   "metadata": {},
   "outputs": [],
   "source": [
    "X = np.zeros(3)\n",
    "Y = np.ones(3)\n",
    "print(X)\n",
    "print(Y)\n",
    "print(X + 2*Y)      # multiplication et addition elt par elt\n",
    "print(X - X/Y)      # division et soustraction elt par elt"
   ]
  },
  {
   "cell_type": "markdown",
   "id": "ea75325e",
   "metadata": {},
   "source": [
    "L’opérateur `*` effectue la multiplication terme à terme. Le produit scalaire entre deux vecteurs, le produit matrice-vecteur et le produit matriciel se font avec l’opérateur `@` (ou `numpy.dot`) :"
   ]
  },
  {
   "cell_type": "code",
   "execution_count": null,
   "id": "a42a16bc",
   "metadata": {},
   "outputs": [],
   "source": [
    "A = np.array([[0,-1,-2],[-3,-4,-5],[-6,-7,-8]])\n",
    "B = np.array([[0,1,2],[3,4,5],[6,7,8]])\n",
    "print(\"produit terme a terme : \", A * B)     # produit terme a terme\n",
    "print(\"produit matriciel : \", np.dot(A,B))   # produit matriciel"
   ]
  },
  {
   "cell_type": "markdown",
   "id": "9c28b9f3",
   "metadata": {},
   "source": [
    "Le module NumPy fournit une liste de fonctions usuelles en mathématiques : `sqrt`, `exp`, `cos`, `sin`, `log`, `log2`, `log10`, `floor`, `ceil`, `round`, etc. :\n"
   ]
  },
  {
   "cell_type": "code",
   "execution_count": null,
   "id": "bc36120c",
   "metadata": {},
   "outputs": [],
   "source": [
    "print(np.exp(1.0))\n",
    "print(np.sqrt(2))"
   ]
  },
  {
   "cell_type": "markdown",
   "id": "b4824d7f",
   "metadata": {},
   "source": [
    "et ceci s'applique bien sûr matriciellement :\n"
   ]
  },
  {
   "cell_type": "code",
   "execution_count": null,
   "id": "335c1014",
   "metadata": {},
   "outputs": [],
   "source": [
    "print(np.exp(A))\n",
    "print(np.cos(B))"
   ]
  },
  {
   "cell_type": "markdown",
   "id": "a06eda6d",
   "metadata": {},
   "source": [
    "### 2.5 Nombres aléatoires\n",
    "\n",
    "NumPy possède un module spécifique pour ce type de fonctions : il s'agit de `random`.\n",
    "\n",
    "Pour générer des nombres aléatoires issus d'une loi normale centrée réduite, on utilise (cliquez plusieurs fois pour réaliser plusieurs réalisations) :\n"
   ]
  },
  {
   "cell_type": "code",
   "execution_count": null,
   "id": "756d8c4b",
   "metadata": {},
   "outputs": [],
   "source": [
    "print(np.random.normal(4,5)) # loi normale de moyenne 4 et de variance 5"
   ]
  },
  {
   "cell_type": "markdown",
   "id": "2183c639",
   "metadata": {},
   "source": [
    "Pour générer une matrice de taille 2x2 de nombres aléatoires entre 0 et 1 issus d'une loi uniforme, on utilise :"
   ]
  },
  {
   "cell_type": "code",
   "execution_count": null,
   "id": "77fd66a7",
   "metadata": {},
   "outputs": [],
   "source": [
    "np.random.random(size=(2,2))"
   ]
  },
  {
   "cell_type": "markdown",
   "id": "11ab5c48",
   "metadata": {},
   "source": [
    "Pour générer un vecteur d'entiers compris entre 0 et 4, on utilise :"
   ]
  },
  {
   "cell_type": "code",
   "execution_count": null,
   "id": "c1309987",
   "metadata": {},
   "outputs": [],
   "source": [
    "np.random.randint(0,5,size=10)"
   ]
  },
  {
   "cell_type": "markdown",
   "id": "e24f4989",
   "metadata": {},
   "source": [
    "Il existe aussi d'autres fonctions qui font la même chose :"
   ]
  },
  {
   "cell_type": "code",
   "execution_count": null,
   "id": "605e8ae9",
   "metadata": {},
   "outputs": [],
   "source": [
    "print(np.random.rand())  # uniforme entre 0 et 1\n",
    "print(np.random.randn()) # normal centre de variance 1"
   ]
  },
  {
   "cell_type": "markdown",
   "id": "6aaf6304",
   "metadata": {},
   "source": [
    "### 2.6 Importer des données à partir d'un fichier"
   ]
  },
  {
   "cell_type": "markdown",
   "id": "ae55aa89",
   "metadata": {},
   "source": [
    "Pour importer un fichier de données préalablement fourni et nommé `donnees.txt` (qui présente une liste de chiffres sur deux lignes), on utilise la commande `array = np.loadtxt(\"donnees.txt\")`. Nous le ferons plus tard.\n",
    "\n"
   ]
  },
  {
   "cell_type": "markdown",
   "id": "aa48a90d",
   "metadata": {},
   "source": [
    "## 3 Visualisation avec *matplotlib*"
   ]
  },
  {
   "cell_type": "markdown",
   "id": "146e7fc6",
   "metadata": {},
   "source": [
    "La modélisation numérique nous amène à tracer des courbes ou des champs modélisés dans des figures. En Python, nous ferons cela avec la librairie `matplotlib`. Par exemple :\n"
   ]
  },
  {
   "cell_type": "code",
   "execution_count": null,
   "id": "5f227d97",
   "metadata": {},
   "outputs": [],
   "source": [
    "import matplotlib.pyplot as plt   # importe matplotlib\n",
    "import numpy as np                # importe numpy\n",
    "plt.figure()                      # prepare la figure\n",
    "X=np.linspace(-2,2,1000)          # creation vecteur entre -2 et 2\n",
    "plt.plot(X,np.exp(X))             # plot fonction exponentiel\n",
    "plt.plot(X,1+X+X**2/2)            # plot fonction 1+X+X**2/2\n",
    "plt.grid()                        # fait apparaitre une grille\n",
    "plt.ylim(-2,8)                    # met des bornes a l'axe y\n",
    "plt.xlabel('x')                   # labelise l'axe x\n",
    "plt.ylabel('y')                   # labelise l'axe y          \n",
    "plt.legend([u'y=exp(x)',u'y=1+x+x^2/2']) # ajoute une legende\n",
    "plt.title(u'Illustration...')     # ajouter un titre\n",
    "plt.show()                        # trace la figure\n",
    "# plt.savefig('mafigure.png')       # sauve la figure au format png\n",
    "plt.close()                       # ferme la figure"
   ]
  },
  {
   "cell_type": "markdown",
   "id": "5bdfb5f1",
   "metadata": {},
   "source": [
    "La fonction `plt.subplot(m, n, k)` découpe une même fenêtre graphique en un tableau de m × n cases et insère les instructions de type `plt.` qui suivent dans la k-ième case. Par exemple :\n"
   ]
  },
  {
   "cell_type": "code",
   "execution_count": null,
   "id": "15230089",
   "metadata": {},
   "outputs": [],
   "source": [
    "import matplotlib.pyplot as plt \n",
    "plt.figure()\n",
    "plt.subplot(1,2,1)\n",
    "plt.title(u'Diagramme no 0')\n",
    "plt.subplot(1,2,2)\n",
    "plt.title(u'Diagramme no 1')\n",
    "plt.show()"
   ]
  },
  {
   "cell_type": "markdown",
   "id": "7079fd66",
   "metadata": {},
   "source": [
    "Si X et Y sont deux listes ou tableaux de nombres réels et de même longueur, alors `plt.scatter(X, Y)` trace le nuage de points (X[0], Y[0]), (X[1], Y[1]), ..., (X[n-1], Y[n-1]). Par exemple :\n"
   ]
  },
  {
   "cell_type": "code",
   "execution_count": null,
   "id": "e100ef5d",
   "metadata": {},
   "outputs": [],
   "source": [
    "import matplotlib.pyplot as plt\n",
    "X=[5.6,5,3.5,7.6,2.2,4,1.9,8.8,7,5.1,3.5,4]\n",
    "Y=[10,5.9,7.8,6,4,3.7,10,1.3,5,8.2,9.5,2.8]\n",
    "plt.scatter(X,Y,color='r')"
   ]
  },
  {
   "cell_type": "markdown",
   "id": "1e0f15d6",
   "metadata": {},
   "source": [
    "Enfin, la fonction `imshow` permet de dessiner un champ 2D à partir d'une matrice (numpy array), prise aléatoirement ici :\n"
   ]
  },
  {
   "cell_type": "code",
   "execution_count": null,
   "id": "ceb7cdf0",
   "metadata": {},
   "outputs": [],
   "source": [
    "import matplotlib.pyplot as plt \n",
    "fig = plt.figure(dpi=200)             # creation figure\n",
    "ax = fig.add_subplot(1, 1, 1)         # creation axes\n",
    "ax.axis(\"off\")                        # on enleve les axes\n",
    "ax.set_aspect(\"equal\")                # on met les axes a l'echelle\n",
    "im = ax.imshow(np.random.random(size=(64,64)),cmap='jet')   # on affiche une image aleatoire\n",
    "ax.set_title(\"Random noise\" , size=15)                      # on met un titre\n",
    "cbar = plt.colorbar(im, label='Label of the colorbar')      # on ajoute une colorbar"
   ]
  },
  {
   "cell_type": "markdown",
   "id": "052718b8",
   "metadata": {},
   "source": [
    "# Exercice 1 : Les générateurs aléatoires "
   ]
  },
  {
   "cell_type": "markdown",
   "id": "32c34729",
   "metadata": {},
   "source": [
    "Dans ce premier exercice, vous allez utiliser deux générateurs de nombres aléatoires qui sont très utiles dans la modélisation numérique pour simuler le comportement aléatoire de systèmes naturels. Commencez par créer quatre paires de vecteurs contenant chacune 500 valeurs aléatoires via les fonctions `np.random.rand` et `np.random.randn`.\n",
    "\n",
    "- La première paire (par exemple `A1` et `B1`) contient des nombres aléatoires **distribués uniformément** entre 0 et 1. \n",
    "- La deuxième paire (par exemple `A2` et `B2`) contient des nombres aléatoires **distribués uniformément** entre -7 et 2. \n",
    "- La troisième paire contient des nombres aléatoires **distribués normalement** autour d'une moyenne de 10 avec un écart-type de 5. \n",
    "- La quatrième paire contient des nombres aléatoires **distribués normalement** autour d'une moyenne de 50 avec un écart-type de 30.\n",
    "\n",
    "En utilisant la commande `plt.subplot`, créez une figure divisée en quatre (2 x 2) et tracez chaque paire de vecteurs dans chacune des cases sous forme de nuages de points (`plt.scatter`) pour représenter leur distribution spatiale. Essayer de reduire le nombre de lignes au maximum en utilisant une boucle `for` pour itérer sur les quatre cas sans répéter les commandes de plot 4 fois.\n",
    "\n",
    "### ✅ **À vous de faire !** "
   ]
  },
  {
   "cell_type": "code",
   "execution_count": null,
   "id": "23e187d1",
   "metadata": {},
   "outputs": [],
   "source": [
    "import matplotlib.pyplot as plt\n",
    "import numpy as np\n",
    "\n",
    "A1 = np.random.rand(500)\n",
    "B1 = np.random.rand(500, 1)\n",
    "\n",
    "A2 = 9 * np.random.rand(500, 1) - 7\n",
    "B2 = 9 * np.random.rand(500, 1) - 7\n",
    "\n",
    "A3 = 5 * np.random.randn(500, 1) + 10\n",
    "B3 = 5 * np.random.randn(500, 1) + 10\n",
    "\n",
    "A4 = 30 * np.random.randn(500, 1) + 50\n",
    "B4 = 30 * np.random.randn(500, 1) + 50\n",
    "\n",
    "A = [A1,A2,A3,A4]\n",
    "B = [B1,B2,B3,B4]\n",
    "\n",
    "plt.figure(1)\n",
    "plt.clf()\n",
    "\n",
    "for i in range(4):\n",
    "    plt.subplot(2, 2, i+1)\n",
    "    plt.scatter(A[i], B[i])\n",
    "    plt.title(f\"A({i}), B({i})\")\n",
    "    plt.axis('tight')\n",
    "    plt.axis('equal')"
   ]
  },
  {
   "cell_type": "markdown",
   "id": "2a9f9186",
   "metadata": {},
   "source": [
    "# Exercice 2 : Calcul élément par élément: mesure du coéfficient de friction\n"
   ]
  },
  {
   "cell_type": "markdown",
   "id": "7d188390",
   "metadata": {},
   "source": [
    "Le coefficient de friction, $\\mu$, entre deux surfaces peut être déterminé expérimentalement en mesurant la force nécessaire pour faire glisser des objets de même nature mais de masses $m$ différentes. L'équation de friction est donnée par :\n",
    "\n",
    "$$ F_r = \\mu F_n $$\n",
    "\n",
    "où :\n",
    "- $F_r$ est la force de résistance à la friction, c'est-à-dire la force nécessaire pour faire glisser l'objet,\n",
    "- $F_n = m \\cdot g$ est la force normale, soit le poids de l'objet, où $g$ représente l'accélération due à la gravité (environ 9.81 m/s²).\n",
    "\n",
    "Des résultats expérimentaux sont fournis dans le tableau ci-dessous (Ron Kurtus, School of Champions, 2007):\n",
    "\n",
    "| Mesure no.                | 1   | 2   | 3   | 4   | 5   | 6   |\n",
    "|---------------------------|-----|-----|-----|-----|-----|-----|\n",
    "| Masse de l'objet $m$ (kg)| 3   | 7   | 9   | 25  | 30  | 55  |\n",
    "| Force $F_r$ (N)          | 12.5| 23.5| 30  | 61  | 117 | 294 |\n",
    "\n",
    "### Étapes à suivre\n",
    "\n",
    "**Creez un bloc code** pour implémenter les choses suivantes:\n",
    "\n",
    "1. **Calculer le coefficient de friction pour chaque mesure** :\n",
    "   Utilisez la formule :\n",
    "\n",
    "   $$ \\mu = \\frac{F_r}{F_n} $$ \n",
    "\n",
    "   avec $F_n = m \\cdot g$.\n",
    "\n",
    "2. **Calculer le coefficient de friction moyen** :\n",
    "   Utilisez la fonction `np.mean()` pour obtenir la valeur moyenne des coefficients de friction.\n",
    "\n",
    "3. **Créer une figure illustrant les coefficients de friction** :\n",
    "   - Utilisez `plt.scatter()` pour afficher les coefficients de friction pour chaque mesure.\n",
    "   - Ajoutez une ligne horizontale pour la valeur moyenne avec `plt.axhline()`.\n",
    "   - Étiquetez les axes, ajoutez un titre, et incluez une légende.\n",
    "\n",
    "### ✅ **À vous de faire !**\n"
   ]
  },
  {
   "cell_type": "code",
   "execution_count": null,
   "id": "39ee73e5",
   "metadata": {},
   "outputs": [],
   "source": [
    "import numpy as np\n",
    "import matplotlib.pyplot as plt\n",
    "\n",
    "# Masse et force résistante\n",
    "m = np.array([3, 7, 9, 25, 30, 55])  # masse, kg\n",
    "F_r = np.array([12.5, 23.5, 30, 61, 117, 294])  # force résistante, N\n",
    "g = 9.81  # accélération gravitationnelle, m/s^2\n",
    "\n",
    "# Calcul de la force normale et du coefficient de frottement\n",
    "F_n = m * g  # Force normale (poids)\n",
    "mu = F_r / F_n  # Coefficient de frottement\n",
    "\n",
    "# Calcul de la valeur moyenne du coefficient de frottement\n",
    "mu_mean = np.mean(mu)\n",
    "\n",
    "# Tracé des coefficients de frottement\n",
    "plt.figure(3)\n",
    "plt.clf()\n",
    "plt.scatter(np.arange(len(m)) + 1, mu, c='b', marker='o', label='Mesures')\n",
    "plt.axhline(mu_mean, color='k', linestyle='--', label='Valeur moyenne')\n",
    "plt.title('Coefficient de Frottement')\n",
    "plt.xlabel('Mesure #')\n",
    "plt.ylabel('Coefficient de Frottement')\n",
    "plt.xlim([0, len(m) + 1])\n",
    "plt.legend()\n",
    "plt.show()"
   ]
  }
 ],
 "metadata": {
  "kernelspec": {
   "display_name": "igm",
   "language": "python",
   "name": "python3"
  },
  "language_info": {
   "codemirror_mode": {
    "name": "ipython",
    "version": 3
   },
   "file_extension": ".py",
   "mimetype": "text/x-python",
   "name": "python",
   "nbconvert_exporter": "python",
   "pygments_lexer": "ipython3",
   "version": "3.10.14"
  }
 },
 "nbformat": 4,
 "nbformat_minor": 5
}
