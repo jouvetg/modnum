{
 "cells": [
  {
   "cell_type": "markdown",
   "id": "2cff46d9",
   "metadata": {},
   "source": [
    "# Exercices 1\n",
    "\n",
    "[Télécharger l'exercice](../01_exercice.zip)"
   ]
  },
  {
   "cell_type": "markdown",
   "id": "b9e7439e",
   "metadata": {},
   "source": [
    "# Exercice du compte en banque "
   ]
  },
  {
   "cell_type": "markdown",
   "id": "940ddc82",
   "metadata": {},
   "source": [
    "Le but de cet exercice est de construire un premier modèle numerique pour modeliser l'évolution d'un compte en banque. Il permet aussi de comparer l'utilité respective d'une solution analytique par rapport à un modéle numérique."
   ]
  },
  {
   "cell_type": "markdown",
   "id": "ff0fe3c1",
   "metadata": {},
   "source": [
    "Une somme d'argent initiale est déposée en banque (`M_init = 20000`) et à partir de la deuxiéme année, une épargne supplémentaire annuelle s'y ajoute (`M_save = 500`)."
   ]
  },
  {
   "cell_type": "markdown",
   "id": "6be96617",
   "metadata": {},
   "source": [
    "## 1.1\n",
    "Quel sera le montant de l'épargne aprés 5, 10 et 35 ans (solution analytique)? Codez les formules qui vous permettent de répondre à cette question.\n",
    "\n",
    "### ✅ **À vous de faire !**"
   ]
  },
  {
   "cell_type": "markdown",
   "id": "af5a3294",
   "metadata": {},
   "source": [
    "## 1.2\n",
    "Répétez l'exercice à l'aide d'une boucle (`for i in range(1,35): ...`). N'oubliez pas qu'il est préférable de définir toute variable modifiée dans la boucle avant qu'elle ne commence. Ici, vous pouvez initialiser le vecteur `M_evol = np.zeros(35)` avec la fonction `numpy` qui définit un vecteur de zeros afin de stocker le montant de l'épargne chaque année.\n",
    "\n",
    "### ✅ **À vous de faire !**"
   ]
  },
  {
   "cell_type": "markdown",
   "id": "a189fbe3",
   "metadata": {},
   "source": [
    "Dans ce cas de figure, y a-t-il un avantage ou un désavantage à employer une boucle numérique à la place d'une solution analytique?\n",
    "\n",
    "### ✅ **À vous de faire !** (répondre à la question dans un bloc 'markdown')"
   ]
  },
  {
   "cell_type": "markdown",
   "id": "58e8e0c0",
   "metadata": {},
   "source": [
    "## 1.3\n",
    "Tracez l'évolution de la fortune en fonction du temps avec la fonction `plt.plot`.\n",
    "\n",
    "### ✅ **À vous de faire !** "
   ]
  },
  {
   "cell_type": "markdown",
   "id": "ca67487b",
   "metadata": {},
   "source": [
    "## 1.4\n",
    "Reprenez l'évolution de la fortune et le code des points 1.2 et 1.3. En définissant un nouveau vecteur, ajoutez un taux d'intérêt de 0,6 % (rappel : les intérêts de l'année $n$ sont ajoutés à la fortune au premier janvier de l'année $n+1$). \n",
    "\n",
    "Tracez l'évolution de la fortune en fonction du temps avec la fonction dans les deux cas : avec et sans intérêts.\n",
    "\n",
    "### ✅ **À vous de faire !** "
   ]
  },
  {
   "cell_type": "markdown",
   "id": "1518e999",
   "metadata": {},
   "source": [
    "A nouveau, une approche numérique est-elle nécessaire ici?\n",
    "\n",
    "### ✅ **À vous de faire !** (Répondre à la question dans un bloc 'markdown')"
   ]
  },
  {
   "cell_type": "markdown",
   "id": "0938a7c2",
   "metadata": {},
   "source": [
    "## 1.5\n",
    "Reprenez le code précédent et remplacez le taux d'intérêt fixe par un taux variable en utilisant une fonction aléatoire pour simuler une distribution normale d'intérêts centrée autour de 0.5\\% et un écart-type de 1\\% avec:\n",
    "```python\n",
    "intrst = np.random.normal(0.005, 0.01)\n",
    "```\n",
    "\n",
    "### ✅ **À vous de faire !**"
   ]
  },
  {
   "cell_type": "markdown",
   "id": "f12d47c3",
   "metadata": {},
   "source": [
    "Est-il envisageable de résoudre ce probléme avec une approche analytique?\n",
    "\n",
    "### ✅ **À vous de faire !** (Répondre à la question dans un bloc 'markdown')"
   ]
  },
  {
   "cell_type": "markdown",
   "id": "6ba29714",
   "metadata": {},
   "source": [
    "## 1.6\n",
    "Reprenez le code précédent, et ajoutez une dépense de 1125.- à l'année 20 dans les deux cas, avec et sans intérêts de 0.6% (fixe), en utilisant une clause (par ex. `if it==19: ...` car l'année 1 correpondant à `it=0`). \n",
    "\n",
    "Affichez la différence de fortune (valeur absolue) entre les cas avec et sans intérêts fixe de 0.6% à l'année 35.\n",
    "\n",
    "### ✅ **À vous de faire !**"
   ]
  },
  {
   "cell_type": "markdown",
   "id": "97ca5bc3",
   "metadata": {},
   "source": [
    "\n",
    "# Conclusion:\n",
    "\n",
    "Il existe deux manières de résoudre le modèle ci-dessus :\n",
    "\n",
    "**1. Analytiquement** : si l'on peut trouver une solution exacte (c'est-à-dire une formule), ce qui est rarement le cas en pratique.\n",
    "\n",
    "**2. Numériquement** : si l'on peut implémenter un algorithme qui approche la solution à l'aide d'une méthode numérique itérative, ce qui est beaucoup plus général.\n",
    "\n",
    "L'objectif principal du cours de modélisation numérique est d'apprendre à calculer des solutions **numériques** pour des problèmes inspirés de la physique."
   ]
  }
 ],
 "metadata": {
  "kernelspec": {
   "display_name": "igm",
   "language": "python",
   "name": "python3"
  },
  "language_info": {
   "codemirror_mode": {
    "name": "ipython",
    "version": 3
   },
   "file_extension": ".py",
   "mimetype": "text/x-python",
   "name": "python",
   "nbconvert_exporter": "python",
   "pygments_lexer": "ipython3",
   "version": "3.10.14"
  }
 },
 "nbformat": 4,
 "nbformat_minor": 5
}
